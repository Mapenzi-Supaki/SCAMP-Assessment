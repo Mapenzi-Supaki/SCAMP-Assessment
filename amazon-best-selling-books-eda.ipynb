{
 "cells": [
  {
   "cell_type": "markdown",
   "metadata": {
    "papermill": {
     "duration": 0.033557,
     "end_time": "2021-02-06T18:13:23.977372",
     "exception": false,
     "start_time": "2021-02-06T18:13:23.943815",
     "status": "completed"
    },
    "tags": []
   },
   "source": [
    "**IMPORT LIBRARIES**\n",
    "\n",
    "*Importing required libraries for the EDA*"
   ]
  },
  {
   "cell_type": "code",
   "execution_count": 1,
   "metadata": {
    "execution": {
     "iopub.execute_input": "2021-02-06T18:13:24.053928Z",
     "iopub.status.busy": "2021-02-06T18:13:24.053189Z",
     "iopub.status.idle": "2021-02-06T18:13:25.934802Z",
     "shell.execute_reply": "2021-02-06T18:13:25.935534Z"
    },
    "papermill": {
     "duration": 1.924085,
     "end_time": "2021-02-06T18:13:25.935849",
     "exception": false,
     "start_time": "2021-02-06T18:13:24.011764",
     "status": "completed"
    },
    "tags": []
   },
   "outputs": [
    {
     "name": "stdout",
     "output_type": "stream",
     "text": [
      "/kaggle/input/amazon-top-50-bestselling-books-2009-2019/bestsellers with categories.csv\n"
     ]
    }
   ],
   "source": [
    "import os\n",
    "for dirname, _, filenames in os.walk('/kaggle/input'):\n",
    "    for filename in filenames:\n",
    "        print(os.path.join(dirname, filename))\n",
    "        \n",
    "import numpy as np\n",
    "import pandas as pd\n",
    "\n",
    "import matplotlib.pyplot as plt\n",
    "%matplotlib inline\n",
    "\n",
    "import seaborn as sns\n",
    "import plotly.express as px\n",
    "import missingno as msno\n",
    "\n",
    "import warnings\n",
    "warnings.filterwarnings('ignore')\n",
    "\n"
   ]
  },
  {
   "cell_type": "markdown",
   "metadata": {
    "papermill": {
     "duration": 0.033611,
     "end_time": "2021-02-06T18:13:26.004363",
     "exception": false,
     "start_time": "2021-02-06T18:13:25.970752",
     "status": "completed"
    },
    "tags": []
   },
   "source": [
    "**LOADING DATASET**\n",
    "\n",
    "*Loading the dataset into the dataframe*"
   ]
  },
  {
   "cell_type": "code",
   "execution_count": 2,
   "metadata": {
    "execution": {
     "iopub.execute_input": "2021-02-06T18:13:26.076019Z",
     "iopub.status.busy": "2021-02-06T18:13:26.075107Z",
     "iopub.status.idle": "2021-02-06T18:13:26.095828Z",
     "shell.execute_reply": "2021-02-06T18:13:26.096405Z"
    },
    "papermill": {
     "duration": 0.057679,
     "end_time": "2021-02-06T18:13:26.096595",
     "exception": false,
     "start_time": "2021-02-06T18:13:26.038916",
     "status": "completed"
    },
    "tags": []
   },
   "outputs": [],
   "source": [
    "#create bestseller dataframe\n",
    "bestseller=pd.read_csv(\"../input/amazon-top-50-bestselling-books-2009-2019/bestsellers with categories.csv\")"
   ]
  },
  {
   "cell_type": "markdown",
   "metadata": {
    "papermill": {
     "duration": 0.03329,
     "end_time": "2021-02-06T18:13:26.164085",
     "exception": false,
     "start_time": "2021-02-06T18:13:26.130795",
     "status": "completed"
    },
    "tags": []
   },
   "source": [
    "**DATA SPECIES EXPLORATION**"
   ]
  },
  {
   "cell_type": "markdown",
   "metadata": {
    "papermill": {
     "duration": 0.033636,
     "end_time": "2021-02-06T18:13:26.231563",
     "exception": false,
     "start_time": "2021-02-06T18:13:26.197927",
     "status": "completed"
    },
    "tags": []
   },
   "source": [
    "*Checking the types of data*"
   ]
  },
  {
   "cell_type": "code",
   "execution_count": 3,
   "metadata": {
    "execution": {
     "iopub.execute_input": "2021-02-06T18:13:26.301752Z",
     "iopub.status.busy": "2021-02-06T18:13:26.300805Z",
     "iopub.status.idle": "2021-02-06T18:13:26.328589Z",
     "shell.execute_reply": "2021-02-06T18:13:26.329216Z"
    },
    "papermill": {
     "duration": 0.064736,
     "end_time": "2021-02-06T18:13:26.329419",
     "exception": false,
     "start_time": "2021-02-06T18:13:26.264683",
     "status": "completed"
    },
    "tags": []
   },
   "outputs": [
    {
     "name": "stdout",
     "output_type": "stream",
     "text": [
      "<class 'pandas.core.frame.DataFrame'>\n",
      "RangeIndex: 550 entries, 0 to 549\n",
      "Data columns (total 7 columns):\n",
      " #   Column       Non-Null Count  Dtype  \n",
      "---  ------       --------------  -----  \n",
      " 0   Name         550 non-null    object \n",
      " 1   Author       550 non-null    object \n",
      " 2   User Rating  550 non-null    float64\n",
      " 3   Reviews      550 non-null    int64  \n",
      " 4   Price        550 non-null    int64  \n",
      " 5   Year         550 non-null    int64  \n",
      " 6   Genre        550 non-null    object \n",
      "dtypes: float64(1), int64(3), object(3)\n",
      "memory usage: 30.2+ KB\n"
     ]
    }
   ],
   "source": [
    "bestseller.info()"
   ]
  },
  {
   "cell_type": "markdown",
   "metadata": {
    "papermill": {
     "duration": 0.033332,
     "end_time": "2021-02-06T18:13:26.395612",
     "exception": false,
     "start_time": "2021-02-06T18:13:26.362280",
     "status": "completed"
    },
    "tags": []
   },
   "source": [
    "As per the above data, we can conclude that the data contains 1 float, 3 integers and one object value. All the colums indicate that they are non-null, meaning they have no missing value."
   ]
  },
  {
   "cell_type": "markdown",
   "metadata": {
    "papermill": {
     "duration": 0.032741,
     "end_time": "2021-02-06T18:13:26.462706",
     "exception": false,
     "start_time": "2021-02-06T18:13:26.429965",
     "status": "completed"
    },
    "tags": []
   },
   "source": [
    "*Display 10 random samples from the dataframe*"
   ]
  },
  {
   "cell_type": "code",
   "execution_count": 4,
   "metadata": {
    "execution": {
     "iopub.execute_input": "2021-02-06T18:13:26.539440Z",
     "iopub.status.busy": "2021-02-06T18:13:26.538799Z",
     "iopub.status.idle": "2021-02-06T18:13:26.558194Z",
     "shell.execute_reply": "2021-02-06T18:13:26.558761Z"
    },
    "papermill": {
     "duration": 0.062477,
     "end_time": "2021-02-06T18:13:26.558930",
     "exception": false,
     "start_time": "2021-02-06T18:13:26.496453",
     "status": "completed"
    },
    "tags": []
   },
   "outputs": [
    {
     "data": {
      "text/html": [
       "<div>\n",
       "<style scoped>\n",
       "    .dataframe tbody tr th:only-of-type {\n",
       "        vertical-align: middle;\n",
       "    }\n",
       "\n",
       "    .dataframe tbody tr th {\n",
       "        vertical-align: top;\n",
       "    }\n",
       "\n",
       "    .dataframe thead th {\n",
       "        text-align: right;\n",
       "    }\n",
       "</style>\n",
       "<table border=\"1\" class=\"dataframe\">\n",
       "  <thead>\n",
       "    <tr style=\"text-align: right;\">\n",
       "      <th></th>\n",
       "      <th>Name</th>\n",
       "      <th>Author</th>\n",
       "      <th>User Rating</th>\n",
       "      <th>Reviews</th>\n",
       "      <th>Price</th>\n",
       "      <th>Year</th>\n",
       "      <th>Genre</th>\n",
       "    </tr>\n",
       "  </thead>\n",
       "  <tbody>\n",
       "    <tr>\n",
       "      <th>485</th>\n",
       "      <td>The Whole30: The 30-Day Guide to Total Health ...</td>\n",
       "      <td>Melissa Hartwig Urban</td>\n",
       "      <td>4.6</td>\n",
       "      <td>7508</td>\n",
       "      <td>16</td>\n",
       "      <td>2017</td>\n",
       "      <td>Non Fiction</td>\n",
       "    </tr>\n",
       "    <tr>\n",
       "      <th>394</th>\n",
       "      <td>The Great Gatsby</td>\n",
       "      <td>F. Scott Fitzgerald</td>\n",
       "      <td>4.4</td>\n",
       "      <td>11616</td>\n",
       "      <td>7</td>\n",
       "      <td>2012</td>\n",
       "      <td>Fiction</td>\n",
       "    </tr>\n",
       "    <tr>\n",
       "      <th>270</th>\n",
       "      <td>Proof of Heaven: A Neurosurgeon's Journey into...</td>\n",
       "      <td>Eben Alexander</td>\n",
       "      <td>4.3</td>\n",
       "      <td>13616</td>\n",
       "      <td>10</td>\n",
       "      <td>2013</td>\n",
       "      <td>Non Fiction</td>\n",
       "    </tr>\n",
       "    <tr>\n",
       "      <th>305</th>\n",
       "      <td>StrengthsFinder 2.0</td>\n",
       "      <td>Gallup</td>\n",
       "      <td>4.0</td>\n",
       "      <td>5069</td>\n",
       "      <td>17</td>\n",
       "      <td>2010</td>\n",
       "      <td>Non Fiction</td>\n",
       "    </tr>\n",
       "    <tr>\n",
       "      <th>388</th>\n",
       "      <td>The Girl with the Dragon Tattoo (Millennium Se...</td>\n",
       "      <td>Stieg Larsson</td>\n",
       "      <td>4.4</td>\n",
       "      <td>10559</td>\n",
       "      <td>2</td>\n",
       "      <td>2009</td>\n",
       "      <td>Fiction</td>\n",
       "    </tr>\n",
       "    <tr>\n",
       "      <th>120</th>\n",
       "      <td>Game of Thrones Boxed Set: A Game of Thrones/A...</td>\n",
       "      <td>George R.R. Martin</td>\n",
       "      <td>4.6</td>\n",
       "      <td>5594</td>\n",
       "      <td>5</td>\n",
       "      <td>2013</td>\n",
       "      <td>Fiction</td>\n",
       "    </tr>\n",
       "    <tr>\n",
       "      <th>163</th>\n",
       "      <td>Hillbilly Elegy: A Memoir of a Family and Cult...</td>\n",
       "      <td>J. D. Vance</td>\n",
       "      <td>4.4</td>\n",
       "      <td>15526</td>\n",
       "      <td>14</td>\n",
       "      <td>2016</td>\n",
       "      <td>Non Fiction</td>\n",
       "    </tr>\n",
       "    <tr>\n",
       "      <th>521</th>\n",
       "      <td>Unfreedom of the Press</td>\n",
       "      <td>Mark R. Levin</td>\n",
       "      <td>4.9</td>\n",
       "      <td>5956</td>\n",
       "      <td>11</td>\n",
       "      <td>2019</td>\n",
       "      <td>Non Fiction</td>\n",
       "    </tr>\n",
       "    <tr>\n",
       "      <th>282</th>\n",
       "      <td>Quiet: The Power of Introverts in a World That...</td>\n",
       "      <td>Susan Cain</td>\n",
       "      <td>4.6</td>\n",
       "      <td>10009</td>\n",
       "      <td>20</td>\n",
       "      <td>2012</td>\n",
       "      <td>Non Fiction</td>\n",
       "    </tr>\n",
       "    <tr>\n",
       "      <th>434</th>\n",
       "      <td>The Maze Runner (Book 1)</td>\n",
       "      <td>James Dashner</td>\n",
       "      <td>4.5</td>\n",
       "      <td>10101</td>\n",
       "      <td>8</td>\n",
       "      <td>2014</td>\n",
       "      <td>Fiction</td>\n",
       "    </tr>\n",
       "  </tbody>\n",
       "</table>\n",
       "</div>"
      ],
      "text/plain": [
       "                                                  Name                 Author  \\\n",
       "485  The Whole30: The 30-Day Guide to Total Health ...  Melissa Hartwig Urban   \n",
       "394                                   The Great Gatsby    F. Scott Fitzgerald   \n",
       "270  Proof of Heaven: A Neurosurgeon's Journey into...         Eben Alexander   \n",
       "305                                StrengthsFinder 2.0                 Gallup   \n",
       "388  The Girl with the Dragon Tattoo (Millennium Se...          Stieg Larsson   \n",
       "120  Game of Thrones Boxed Set: A Game of Thrones/A...     George R.R. Martin   \n",
       "163  Hillbilly Elegy: A Memoir of a Family and Cult...            J. D. Vance   \n",
       "521                             Unfreedom of the Press          Mark R. Levin   \n",
       "282  Quiet: The Power of Introverts in a World That...             Susan Cain   \n",
       "434                           The Maze Runner (Book 1)          James Dashner   \n",
       "\n",
       "     User Rating  Reviews  Price  Year        Genre  \n",
       "485          4.6     7508     16  2017  Non Fiction  \n",
       "394          4.4    11616      7  2012      Fiction  \n",
       "270          4.3    13616     10  2013  Non Fiction  \n",
       "305          4.0     5069     17  2010  Non Fiction  \n",
       "388          4.4    10559      2  2009      Fiction  \n",
       "120          4.6     5594      5  2013      Fiction  \n",
       "163          4.4    15526     14  2016  Non Fiction  \n",
       "521          4.9     5956     11  2019  Non Fiction  \n",
       "282          4.6    10009     20  2012  Non Fiction  \n",
       "434          4.5    10101      8  2014      Fiction  "
      ]
     },
     "execution_count": 4,
     "metadata": {},
     "output_type": "execute_result"
    }
   ],
   "source": [
    "bestseller.sample(10)"
   ]
  },
  {
   "cell_type": "markdown",
   "metadata": {
    "papermill": {
     "duration": 0.034526,
     "end_time": "2021-02-06T18:13:26.627343",
     "exception": false,
     "start_time": "2021-02-06T18:13:26.592817",
     "status": "completed"
    },
    "tags": []
   },
   "source": [
    "*Return shape of the dataframe*"
   ]
  },
  {
   "cell_type": "code",
   "execution_count": 5,
   "metadata": {
    "execution": {
     "iopub.execute_input": "2021-02-06T18:13:26.700152Z",
     "iopub.status.busy": "2021-02-06T18:13:26.699200Z",
     "iopub.status.idle": "2021-02-06T18:13:26.704614Z",
     "shell.execute_reply": "2021-02-06T18:13:26.705147Z"
    },
    "papermill": {
     "duration": 0.043795,
     "end_time": "2021-02-06T18:13:26.705354",
     "exception": false,
     "start_time": "2021-02-06T18:13:26.661559",
     "status": "completed"
    },
    "tags": []
   },
   "outputs": [
    {
     "data": {
      "text/plain": [
       "(550, 7)"
      ]
     },
     "execution_count": 5,
     "metadata": {},
     "output_type": "execute_result"
    }
   ],
   "source": [
    "bestseller.shape"
   ]
  },
  {
   "cell_type": "markdown",
   "metadata": {
    "papermill": {
     "duration": 0.03407,
     "end_time": "2021-02-06T18:13:26.774212",
     "exception": false,
     "start_time": "2021-02-06T18:13:26.740142",
     "status": "completed"
    },
    "tags": []
   },
   "source": [
    "*Show stats of the dataframe*"
   ]
  },
  {
   "cell_type": "code",
   "execution_count": 6,
   "metadata": {
    "execution": {
     "iopub.execute_input": "2021-02-06T18:13:26.849115Z",
     "iopub.status.busy": "2021-02-06T18:13:26.848185Z",
     "iopub.status.idle": "2021-02-06T18:13:26.871821Z",
     "shell.execute_reply": "2021-02-06T18:13:26.872339Z"
    },
    "papermill": {
     "duration": 0.062947,
     "end_time": "2021-02-06T18:13:26.872509",
     "exception": false,
     "start_time": "2021-02-06T18:13:26.809562",
     "status": "completed"
    },
    "tags": []
   },
   "outputs": [
    {
     "data": {
      "text/html": [
       "<div>\n",
       "<style scoped>\n",
       "    .dataframe tbody tr th:only-of-type {\n",
       "        vertical-align: middle;\n",
       "    }\n",
       "\n",
       "    .dataframe tbody tr th {\n",
       "        vertical-align: top;\n",
       "    }\n",
       "\n",
       "    .dataframe thead th {\n",
       "        text-align: right;\n",
       "    }\n",
       "</style>\n",
       "<table border=\"1\" class=\"dataframe\">\n",
       "  <thead>\n",
       "    <tr style=\"text-align: right;\">\n",
       "      <th></th>\n",
       "      <th>User Rating</th>\n",
       "      <th>Reviews</th>\n",
       "      <th>Price</th>\n",
       "      <th>Year</th>\n",
       "    </tr>\n",
       "  </thead>\n",
       "  <tbody>\n",
       "    <tr>\n",
       "      <th>count</th>\n",
       "      <td>550.000000</td>\n",
       "      <td>550.000000</td>\n",
       "      <td>550.000000</td>\n",
       "      <td>550.000000</td>\n",
       "    </tr>\n",
       "    <tr>\n",
       "      <th>mean</th>\n",
       "      <td>4.618364</td>\n",
       "      <td>11953.281818</td>\n",
       "      <td>13.100000</td>\n",
       "      <td>2014.000000</td>\n",
       "    </tr>\n",
       "    <tr>\n",
       "      <th>std</th>\n",
       "      <td>0.226980</td>\n",
       "      <td>11731.132017</td>\n",
       "      <td>10.842262</td>\n",
       "      <td>3.165156</td>\n",
       "    </tr>\n",
       "    <tr>\n",
       "      <th>min</th>\n",
       "      <td>3.300000</td>\n",
       "      <td>37.000000</td>\n",
       "      <td>0.000000</td>\n",
       "      <td>2009.000000</td>\n",
       "    </tr>\n",
       "    <tr>\n",
       "      <th>25%</th>\n",
       "      <td>4.500000</td>\n",
       "      <td>4058.000000</td>\n",
       "      <td>7.000000</td>\n",
       "      <td>2011.000000</td>\n",
       "    </tr>\n",
       "    <tr>\n",
       "      <th>50%</th>\n",
       "      <td>4.700000</td>\n",
       "      <td>8580.000000</td>\n",
       "      <td>11.000000</td>\n",
       "      <td>2014.000000</td>\n",
       "    </tr>\n",
       "    <tr>\n",
       "      <th>75%</th>\n",
       "      <td>4.800000</td>\n",
       "      <td>17253.250000</td>\n",
       "      <td>16.000000</td>\n",
       "      <td>2017.000000</td>\n",
       "    </tr>\n",
       "    <tr>\n",
       "      <th>max</th>\n",
       "      <td>4.900000</td>\n",
       "      <td>87841.000000</td>\n",
       "      <td>105.000000</td>\n",
       "      <td>2019.000000</td>\n",
       "    </tr>\n",
       "  </tbody>\n",
       "</table>\n",
       "</div>"
      ],
      "text/plain": [
       "       User Rating       Reviews       Price         Year\n",
       "count   550.000000    550.000000  550.000000   550.000000\n",
       "mean      4.618364  11953.281818   13.100000  2014.000000\n",
       "std       0.226980  11731.132017   10.842262     3.165156\n",
       "min       3.300000     37.000000    0.000000  2009.000000\n",
       "25%       4.500000   4058.000000    7.000000  2011.000000\n",
       "50%       4.700000   8580.000000   11.000000  2014.000000\n",
       "75%       4.800000  17253.250000   16.000000  2017.000000\n",
       "max       4.900000  87841.000000  105.000000  2019.000000"
      ]
     },
     "execution_count": 6,
     "metadata": {},
     "output_type": "execute_result"
    }
   ],
   "source": [
    "bestseller.describe()"
   ]
  },
  {
   "cell_type": "markdown",
   "metadata": {
    "papermill": {
     "duration": 0.040721,
     "end_time": "2021-02-06T18:13:26.949541",
     "exception": false,
     "start_time": "2021-02-06T18:13:26.908820",
     "status": "completed"
    },
    "tags": []
   },
   "source": [
    "*Find null/missing values*"
   ]
  },
  {
   "cell_type": "code",
   "execution_count": 7,
   "metadata": {
    "execution": {
     "iopub.execute_input": "2021-02-06T18:13:27.045202Z",
     "iopub.status.busy": "2021-02-06T18:13:27.044226Z",
     "iopub.status.idle": "2021-02-06T18:13:27.054646Z",
     "shell.execute_reply": "2021-02-06T18:13:27.054001Z"
    },
    "papermill": {
     "duration": 0.06531,
     "end_time": "2021-02-06T18:13:27.054804",
     "exception": false,
     "start_time": "2021-02-06T18:13:26.989494",
     "status": "completed"
    },
    "tags": []
   },
   "outputs": [
    {
     "data": {
      "text/plain": [
       "Name           False\n",
       "Author         False\n",
       "User Rating    False\n",
       "Reviews        False\n",
       "Price          False\n",
       "Year           False\n",
       "Genre          False\n",
       "dtype: bool"
      ]
     },
     "execution_count": 7,
     "metadata": {},
     "output_type": "execute_result"
    }
   ],
   "source": [
    "bestseller.isnull().any() "
   ]
  },
  {
   "cell_type": "markdown",
   "metadata": {
    "papermill": {
     "duration": 0.036262,
     "end_time": "2021-02-06T18:13:27.132384",
     "exception": false,
     "start_time": "2021-02-06T18:13:27.096122",
     "status": "completed"
    },
    "tags": []
   },
   "source": [
    "*Visualize missing values as a bar chart*"
   ]
  },
  {
   "cell_type": "code",
   "execution_count": 8,
   "metadata": {
    "execution": {
     "iopub.execute_input": "2021-02-06T18:13:27.212468Z",
     "iopub.status.busy": "2021-02-06T18:13:27.211451Z",
     "iopub.status.idle": "2021-02-06T18:13:27.752997Z",
     "shell.execute_reply": "2021-02-06T18:13:27.753513Z"
    },
    "papermill": {
     "duration": 0.585298,
     "end_time": "2021-02-06T18:13:27.753679",
     "exception": false,
     "start_time": "2021-02-06T18:13:27.168381",
     "status": "completed"
    },
    "tags": []
   },
   "outputs": [
    {
     "data": {
      "text/plain": [
       "<AxesSubplot:>"
      ]
     },
     "execution_count": 8,
     "metadata": {},
     "output_type": "execute_result"
    },
    {
     "data": {
      "image/png": "[encoded data removed]",
      "text/plain": [
       "<Figure size 720x288 with 3 Axes>"
      ]
     },
     "metadata": {
      "needs_background": "light"
     },
     "output_type": "display_data"
    }
   ],
   "source": [
    "msno.bar(bestseller, figsize=(10,4), color = \"purple\",fontsize=10) "
   ]
  },
  {
   "cell_type": "markdown",
   "metadata": {
    "papermill": {
     "duration": 0.037801,
     "end_time": "2021-02-06T18:13:27.828892",
     "exception": false,
     "start_time": "2021-02-06T18:13:27.791091",
     "status": "completed"
    },
    "tags": []
   },
   "source": [
    "As per the bar chart you are able to see how many missing values are there in each feature. In the case of our dataframe, there are no missing values.\n"
   ]
  },
  {
   "cell_type": "markdown",
   "metadata": {
    "papermill": {
     "duration": 0.037337,
     "end_time": "2021-02-06T18:13:27.904480",
     "exception": false,
     "start_time": "2021-02-06T18:13:27.867143",
     "status": "completed"
    },
    "tags": []
   },
   "source": [
    "*Return number of values in Genre column*"
   ]
  },
  {
   "cell_type": "code",
   "execution_count": 9,
   "metadata": {
    "execution": {
     "iopub.execute_input": "2021-02-06T18:13:27.987593Z",
     "iopub.status.busy": "2021-02-06T18:13:27.983017Z",
     "iopub.status.idle": "2021-02-06T18:13:27.990593Z",
     "shell.execute_reply": "2021-02-06T18:13:27.991066Z"
    },
    "papermill": {
     "duration": 0.048883,
     "end_time": "2021-02-06T18:13:27.991231",
     "exception": false,
     "start_time": "2021-02-06T18:13:27.942348",
     "status": "completed"
    },
    "tags": []
   },
   "outputs": [
    {
     "data": {
      "text/plain": [
       "Non Fiction    310\n",
       "Fiction        240\n",
       "Name: Genre, dtype: int64"
      ]
     },
     "execution_count": 9,
     "metadata": {},
     "output_type": "execute_result"
    }
   ],
   "source": [
    "bestseller['Genre'].value_counts()"
   ]
  },
  {
   "cell_type": "markdown",
   "metadata": {
    "papermill": {
     "duration": 0.038817,
     "end_time": "2021-02-06T18:13:28.068239",
     "exception": false,
     "start_time": "2021-02-06T18:13:28.029422",
     "status": "completed"
    },
    "tags": []
   },
   "source": [
    "*Checking and dropping the duplicate rows*"
   ]
  },
  {
   "cell_type": "markdown",
   "metadata": {
    "papermill": {
     "duration": 0.037862,
     "end_time": "2021-02-06T18:13:28.144360",
     "exception": false,
     "start_time": "2021-02-06T18:13:28.106498",
     "status": "completed"
    },
    "tags": []
   },
   "source": [
    "Returning a boolean series to check for duplicates"
   ]
  },
  {
   "cell_type": "code",
   "execution_count": 10,
   "metadata": {
    "execution": {
     "iopub.execute_input": "2021-02-06T18:13:28.224486Z",
     "iopub.status.busy": "2021-02-06T18:13:28.223826Z",
     "iopub.status.idle": "2021-02-06T18:13:28.245990Z",
     "shell.execute_reply": "2021-02-06T18:13:28.245465Z"
    },
    "papermill": {
     "duration": 0.063391,
     "end_time": "2021-02-06T18:13:28.246128",
     "exception": false,
     "start_time": "2021-02-06T18:13:28.182737",
     "status": "completed"
    },
    "tags": []
   },
   "outputs": [
    {
     "data": {
      "text/html": [
       "<div>\n",
       "<style scoped>\n",
       "    .dataframe tbody tr th:only-of-type {\n",
       "        vertical-align: middle;\n",
       "    }\n",
       "\n",
       "    .dataframe tbody tr th {\n",
       "        vertical-align: top;\n",
       "    }\n",
       "\n",
       "    .dataframe thead th {\n",
       "        text-align: right;\n",
       "    }\n",
       "</style>\n",
       "<table border=\"1\" class=\"dataframe\">\n",
       "  <thead>\n",
       "    <tr style=\"text-align: right;\">\n",
       "      <th></th>\n",
       "      <th>Name</th>\n",
       "      <th>Author</th>\n",
       "      <th>User Rating</th>\n",
       "      <th>Reviews</th>\n",
       "      <th>Price</th>\n",
       "      <th>Year</th>\n",
       "      <th>Genre</th>\n",
       "    </tr>\n",
       "  </thead>\n",
       "  <tbody>\n",
       "    <tr>\n",
       "      <th>10</th>\n",
       "      <td>A Man Called Ove: A Novel</td>\n",
       "      <td>Fredrik Backman</td>\n",
       "      <td>4.6</td>\n",
       "      <td>23848</td>\n",
       "      <td>8</td>\n",
       "      <td>2017</td>\n",
       "      <td>Fiction</td>\n",
       "    </tr>\n",
       "    <tr>\n",
       "      <th>21</th>\n",
       "      <td>All the Light We Cannot See</td>\n",
       "      <td>Anthony Doerr</td>\n",
       "      <td>4.6</td>\n",
       "      <td>36348</td>\n",
       "      <td>14</td>\n",
       "      <td>2015</td>\n",
       "      <td>Fiction</td>\n",
       "    </tr>\n",
       "    <tr>\n",
       "      <th>32</th>\n",
       "      <td>Becoming</td>\n",
       "      <td>Michelle Obama</td>\n",
       "      <td>4.8</td>\n",
       "      <td>61133</td>\n",
       "      <td>11</td>\n",
       "      <td>2018</td>\n",
       "      <td>Non Fiction</td>\n",
       "    </tr>\n",
       "    <tr>\n",
       "      <th>36</th>\n",
       "      <td>Between the World and Me</td>\n",
       "      <td>Ta-Nehisi Coates</td>\n",
       "      <td>4.7</td>\n",
       "      <td>10070</td>\n",
       "      <td>13</td>\n",
       "      <td>2016</td>\n",
       "      <td>Non Fiction</td>\n",
       "    </tr>\n",
       "    <tr>\n",
       "      <th>41</th>\n",
       "      <td>Brown Bear, Brown Bear, What Do You See?</td>\n",
       "      <td>Bill Martin Jr.</td>\n",
       "      <td>4.9</td>\n",
       "      <td>14344</td>\n",
       "      <td>5</td>\n",
       "      <td>2019</td>\n",
       "      <td>Fiction</td>\n",
       "    </tr>\n",
       "    <tr>\n",
       "      <th>...</th>\n",
       "      <td>...</td>\n",
       "      <td>...</td>\n",
       "      <td>...</td>\n",
       "      <td>...</td>\n",
       "      <td>...</td>\n",
       "      <td>...</td>\n",
       "      <td>...</td>\n",
       "    </tr>\n",
       "    <tr>\n",
       "      <th>543</th>\n",
       "      <td>Wonder</td>\n",
       "      <td>R. J. Palacio</td>\n",
       "      <td>4.8</td>\n",
       "      <td>21625</td>\n",
       "      <td>9</td>\n",
       "      <td>2016</td>\n",
       "      <td>Fiction</td>\n",
       "    </tr>\n",
       "    <tr>\n",
       "      <th>544</th>\n",
       "      <td>Wonder</td>\n",
       "      <td>R. J. Palacio</td>\n",
       "      <td>4.8</td>\n",
       "      <td>21625</td>\n",
       "      <td>9</td>\n",
       "      <td>2017</td>\n",
       "      <td>Fiction</td>\n",
       "    </tr>\n",
       "    <tr>\n",
       "      <th>548</th>\n",
       "      <td>You Are a Badass: How to Stop Doubting Your Gr...</td>\n",
       "      <td>Jen Sincero</td>\n",
       "      <td>4.7</td>\n",
       "      <td>14331</td>\n",
       "      <td>8</td>\n",
       "      <td>2018</td>\n",
       "      <td>Non Fiction</td>\n",
       "    </tr>\n",
       "    <tr>\n",
       "      <th>546</th>\n",
       "      <td>You Are a Badass: How to Stop Doubting Your Gr...</td>\n",
       "      <td>Jen Sincero</td>\n",
       "      <td>4.7</td>\n",
       "      <td>14331</td>\n",
       "      <td>8</td>\n",
       "      <td>2016</td>\n",
       "      <td>Non Fiction</td>\n",
       "    </tr>\n",
       "    <tr>\n",
       "      <th>549</th>\n",
       "      <td>You Are a Badass: How to Stop Doubting Your Gr...</td>\n",
       "      <td>Jen Sincero</td>\n",
       "      <td>4.7</td>\n",
       "      <td>14331</td>\n",
       "      <td>8</td>\n",
       "      <td>2019</td>\n",
       "      <td>Non Fiction</td>\n",
       "    </tr>\n",
       "  </tbody>\n",
       "</table>\n",
       "<p>199 rows × 7 columns</p>\n",
       "</div>"
      ],
      "text/plain": [
       "                                                  Name            Author  \\\n",
       "10                           A Man Called Ove: A Novel   Fredrik Backman   \n",
       "21                         All the Light We Cannot See     Anthony Doerr   \n",
       "32                                            Becoming    Michelle Obama   \n",
       "36                            Between the World and Me  Ta-Nehisi Coates   \n",
       "41            Brown Bear, Brown Bear, What Do You See?   Bill Martin Jr.   \n",
       "..                                                 ...               ...   \n",
       "543                                             Wonder     R. J. Palacio   \n",
       "544                                             Wonder     R. J. Palacio   \n",
       "548  You Are a Badass: How to Stop Doubting Your Gr...       Jen Sincero   \n",
       "546  You Are a Badass: How to Stop Doubting Your Gr...       Jen Sincero   \n",
       "549  You Are a Badass: How to Stop Doubting Your Gr...       Jen Sincero   \n",
       "\n",
       "     User Rating  Reviews  Price  Year        Genre  \n",
       "10           4.6    23848      8  2017      Fiction  \n",
       "21           4.6    36348     14  2015      Fiction  \n",
       "32           4.8    61133     11  2018  Non Fiction  \n",
       "36           4.7    10070     13  2016  Non Fiction  \n",
       "41           4.9    14344      5  2019      Fiction  \n",
       "..           ...      ...    ...   ...          ...  \n",
       "543          4.8    21625      9  2016      Fiction  \n",
       "544          4.8    21625      9  2017      Fiction  \n",
       "548          4.7    14331      8  2018  Non Fiction  \n",
       "546          4.7    14331      8  2016  Non Fiction  \n",
       "549          4.7    14331      8  2019  Non Fiction  \n",
       "\n",
       "[199 rows x 7 columns]"
      ]
     },
     "execution_count": 10,
     "metadata": {},
     "output_type": "execute_result"
    }
   ],
   "source": [
    "\n",
    "# sorting by name \n",
    "bestseller.sort_values(\"Name\", inplace = True) \n",
    "# making a bool series \n",
    "bestseller_bool = bestseller[\"Name\"].duplicated() \n",
    "  \n",
    "# displaying data \n",
    "bestseller.head() \n",
    "  \n",
    "# display data \n",
    "bestseller[bestseller_bool]\n"
   ]
  },
  {
   "cell_type": "markdown",
   "metadata": {
    "papermill": {
     "duration": 0.038769,
     "end_time": "2021-02-06T18:13:28.323958",
     "exception": false,
     "start_time": "2021-02-06T18:13:28.285189",
     "status": "completed"
    },
    "tags": []
   },
   "source": [
    "As shown in the output image above, since the default parameter that was set was the 'Name', hence whenever the name is occured, the first book name that appears is considered Unique and rest are Duplicated. \n",
    "\n",
    "In the above case, you can see that the book Wonder by R. J. Palacio and You Are a Badass: How to Stop Doubting Your Gr... by Jen Sincero have several dupicate entries"
   ]
  },
  {
   "cell_type": "markdown",
   "metadata": {
    "papermill": {
     "duration": 0.03872,
     "end_time": "2021-02-06T18:13:28.401850",
     "exception": false,
     "start_time": "2021-02-06T18:13:28.363130",
     "status": "completed"
    },
    "tags": []
   },
   "source": [
    "Removing Duplicates"
   ]
  },
  {
   "cell_type": "code",
   "execution_count": 11,
   "metadata": {
    "execution": {
     "iopub.execute_input": "2021-02-06T18:13:28.487033Z",
     "iopub.status.busy": "2021-02-06T18:13:28.486336Z",
     "iopub.status.idle": "2021-02-06T18:13:28.513275Z",
     "shell.execute_reply": "2021-02-06T18:13:28.512779Z"
    },
    "papermill": {
     "duration": 0.072187,
     "end_time": "2021-02-06T18:13:28.513436",
     "exception": false,
     "start_time": "2021-02-06T18:13:28.441249",
     "status": "completed"
    },
    "tags": []
   },
   "outputs": [
    {
     "name": "stdout",
     "output_type": "stream",
     "text": [
      "<class 'pandas.core.frame.DataFrame'>\n",
      "Int64Index: 255 entries, 0 to 545\n",
      "Data columns (total 7 columns):\n",
      " #   Column       Non-Null Count  Dtype  \n",
      "---  ------       --------------  -----  \n",
      " 0   Name         255 non-null    object \n",
      " 1   Author       255 non-null    object \n",
      " 2   User Rating  255 non-null    float64\n",
      " 3   Reviews      255 non-null    int64  \n",
      " 4   Price        255 non-null    int64  \n",
      " 5   Year         255 non-null    int64  \n",
      " 6   Genre        255 non-null    object \n",
      "dtypes: float64(1), int64(3), object(3)\n",
      "memory usage: 15.9+ KB\n"
     ]
    },
    {
     "data": {
      "text/html": [
       "<div>\n",
       "<style scoped>\n",
       "    .dataframe tbody tr th:only-of-type {\n",
       "        vertical-align: middle;\n",
       "    }\n",
       "\n",
       "    .dataframe tbody tr th {\n",
       "        vertical-align: top;\n",
       "    }\n",
       "\n",
       "    .dataframe thead th {\n",
       "        text-align: right;\n",
       "    }\n",
       "</style>\n",
       "<table border=\"1\" class=\"dataframe\">\n",
       "  <thead>\n",
       "    <tr style=\"text-align: right;\">\n",
       "      <th></th>\n",
       "      <th>Name</th>\n",
       "      <th>Author</th>\n",
       "      <th>User Rating</th>\n",
       "      <th>Reviews</th>\n",
       "      <th>Price</th>\n",
       "      <th>Year</th>\n",
       "      <th>Genre</th>\n",
       "    </tr>\n",
       "  </thead>\n",
       "  <tbody>\n",
       "    <tr>\n",
       "      <th>0</th>\n",
       "      <td>10-Day Green Smoothie Cleanse</td>\n",
       "      <td>JJ Smith</td>\n",
       "      <td>4.7</td>\n",
       "      <td>17350</td>\n",
       "      <td>8</td>\n",
       "      <td>2016</td>\n",
       "      <td>Non Fiction</td>\n",
       "    </tr>\n",
       "    <tr>\n",
       "      <th>1</th>\n",
       "      <td>11/22/63: A Novel</td>\n",
       "      <td>Stephen King</td>\n",
       "      <td>4.6</td>\n",
       "      <td>2052</td>\n",
       "      <td>22</td>\n",
       "      <td>2011</td>\n",
       "      <td>Fiction</td>\n",
       "    </tr>\n",
       "    <tr>\n",
       "      <th>2</th>\n",
       "      <td>12 Rules for Life: An Antidote to Chaos</td>\n",
       "      <td>Jordan B. Peterson</td>\n",
       "      <td>4.7</td>\n",
       "      <td>18979</td>\n",
       "      <td>15</td>\n",
       "      <td>2018</td>\n",
       "      <td>Non Fiction</td>\n",
       "    </tr>\n",
       "    <tr>\n",
       "      <th>3</th>\n",
       "      <td>1984 (Signet Classics)</td>\n",
       "      <td>George Orwell</td>\n",
       "      <td>4.7</td>\n",
       "      <td>21424</td>\n",
       "      <td>6</td>\n",
       "      <td>2017</td>\n",
       "      <td>Fiction</td>\n",
       "    </tr>\n",
       "    <tr>\n",
       "      <th>4</th>\n",
       "      <td>5,000 Awesome Facts (About Everything!) (Natio...</td>\n",
       "      <td>National Geographic Kids</td>\n",
       "      <td>4.8</td>\n",
       "      <td>7665</td>\n",
       "      <td>12</td>\n",
       "      <td>2019</td>\n",
       "      <td>Non Fiction</td>\n",
       "    </tr>\n",
       "    <tr>\n",
       "      <th>...</th>\n",
       "      <td>...</td>\n",
       "      <td>...</td>\n",
       "      <td>...</td>\n",
       "      <td>...</td>\n",
       "      <td>...</td>\n",
       "      <td>...</td>\n",
       "      <td>...</td>\n",
       "    </tr>\n",
       "    <tr>\n",
       "      <th>536</th>\n",
       "      <td>Whose Boat Is This Boat?: Comments That Don't ...</td>\n",
       "      <td>The Staff of The Late Show with</td>\n",
       "      <td>4.6</td>\n",
       "      <td>6669</td>\n",
       "      <td>12</td>\n",
       "      <td>2018</td>\n",
       "      <td>Non Fiction</td>\n",
       "    </tr>\n",
       "    <tr>\n",
       "      <th>537</th>\n",
       "      <td>Wild: From Lost to Found on the Pacific Crest ...</td>\n",
       "      <td>Cheryl Strayed</td>\n",
       "      <td>4.4</td>\n",
       "      <td>17044</td>\n",
       "      <td>18</td>\n",
       "      <td>2012</td>\n",
       "      <td>Non Fiction</td>\n",
       "    </tr>\n",
       "    <tr>\n",
       "      <th>538</th>\n",
       "      <td>Winter of the World: Book Two of the Century T...</td>\n",
       "      <td>Ken Follett</td>\n",
       "      <td>4.5</td>\n",
       "      <td>10760</td>\n",
       "      <td>15</td>\n",
       "      <td>2012</td>\n",
       "      <td>Fiction</td>\n",
       "    </tr>\n",
       "    <tr>\n",
       "      <th>539</th>\n",
       "      <td>Women Food and God: An Unexpected Path to Almo...</td>\n",
       "      <td>Geneen Roth</td>\n",
       "      <td>4.2</td>\n",
       "      <td>1302</td>\n",
       "      <td>11</td>\n",
       "      <td>2010</td>\n",
       "      <td>Non Fiction</td>\n",
       "    </tr>\n",
       "    <tr>\n",
       "      <th>545</th>\n",
       "      <td>Wrecking Ball (Diary of a Wimpy Kid Book 14)</td>\n",
       "      <td>Jeff Kinney</td>\n",
       "      <td>4.9</td>\n",
       "      <td>9413</td>\n",
       "      <td>8</td>\n",
       "      <td>2019</td>\n",
       "      <td>Fiction</td>\n",
       "    </tr>\n",
       "  </tbody>\n",
       "</table>\n",
       "<p>255 rows × 7 columns</p>\n",
       "</div>"
      ],
      "text/plain": [
       "                                                  Name  \\\n",
       "0                        10-Day Green Smoothie Cleanse   \n",
       "1                                    11/22/63: A Novel   \n",
       "2              12 Rules for Life: An Antidote to Chaos   \n",
       "3                               1984 (Signet Classics)   \n",
       "4    5,000 Awesome Facts (About Everything!) (Natio...   \n",
       "..                                                 ...   \n",
       "536  Whose Boat Is This Boat?: Comments That Don't ...   \n",
       "537  Wild: From Lost to Found on the Pacific Crest ...   \n",
       "538  Winter of the World: Book Two of the Century T...   \n",
       "539  Women Food and God: An Unexpected Path to Almo...   \n",
       "545       Wrecking Ball (Diary of a Wimpy Kid Book 14)   \n",
       "\n",
       "                               Author  User Rating  Reviews  Price  Year  \\\n",
       "0                            JJ Smith          4.7    17350      8  2016   \n",
       "1                        Stephen King          4.6     2052     22  2011   \n",
       "2                  Jordan B. Peterson          4.7    18979     15  2018   \n",
       "3                       George Orwell          4.7    21424      6  2017   \n",
       "4            National Geographic Kids          4.8     7665     12  2019   \n",
       "..                                ...          ...      ...    ...   ...   \n",
       "536  The Staff of The Late Show with\n",
       "          4.6     6669     12  2018   \n",
       "537                    Cheryl Strayed          4.4    17044     18  2012   \n",
       "538                       Ken Follett          4.5    10760     15  2012   \n",
       "539                       Geneen Roth          4.2     1302     11  2010   \n",
       "545                       Jeff Kinney          4.9     9413      8  2019   \n",
       "\n",
       "           Genre  \n",
       "0    Non Fiction  \n",
       "1        Fiction  \n",
       "2    Non Fiction  \n",
       "3        Fiction  \n",
       "4    Non Fiction  \n",
       "..           ...  \n",
       "536  Non Fiction  \n",
       "537  Non Fiction  \n",
       "538      Fiction  \n",
       "539  Non Fiction  \n",
       "545      Fiction  \n",
       "\n",
       "[255 rows x 7 columns]"
      ]
     },
     "execution_count": 11,
     "metadata": {},
     "output_type": "execute_result"
    }
   ],
   "source": [
    "# making a bool series \n",
    "bestseller_bool = bestseller[\"Name\"].duplicated(keep = False) \n",
    "  \n",
    "# bool series \n",
    "bestseller_bool \n",
    "  \n",
    "# passing NOT of bool series to see unique values only \n",
    "bestseller_books = bestseller[~bestseller_bool] \n",
    "  \n",
    "# displaying data \n",
    "bestseller_books.info() \n",
    "bestseller_books "
   ]
  },
  {
   "cell_type": "markdown",
   "metadata": {
    "papermill": {
     "duration": 0.039471,
     "end_time": "2021-02-06T18:13:28.594820",
     "exception": false,
     "start_time": "2021-02-06T18:13:28.555349",
     "status": "completed"
    },
    "tags": []
   },
   "source": [
    "As per the output image above, since the duplicated() method returns False for Duplicates, the NOT of the boolean series is taken to only see the unique values in the new bestseller books dataframe."
   ]
  },
  {
   "cell_type": "markdown",
   "metadata": {
    "papermill": {
     "duration": 0.039779,
     "end_time": "2021-02-06T18:13:28.674678",
     "exception": false,
     "start_time": "2021-02-06T18:13:28.634899",
     "status": "completed"
    },
    "tags": []
   },
   "source": [
    "**DATA VISUALIZATION**"
   ]
  },
  {
   "cell_type": "code",
   "execution_count": 12,
   "metadata": {
    "execution": {
     "iopub.execute_input": "2021-02-06T18:13:28.768808Z",
     "iopub.status.busy": "2021-02-06T18:13:28.768107Z",
     "iopub.status.idle": "2021-02-06T18:13:28.770857Z",
     "shell.execute_reply": "2021-02-06T18:13:28.771434Z"
    },
    "papermill": {
     "duration": 0.056039,
     "end_time": "2021-02-06T18:13:28.771617",
     "exception": false,
     "start_time": "2021-02-06T18:13:28.715578",
     "status": "completed"
    },
    "tags": []
   },
   "outputs": [
    {
     "data": {
      "text/html": [
       "<div>\n",
       "<style scoped>\n",
       "    .dataframe tbody tr th:only-of-type {\n",
       "        vertical-align: middle;\n",
       "    }\n",
       "\n",
       "    .dataframe tbody tr th {\n",
       "        vertical-align: top;\n",
       "    }\n",
       "\n",
       "    .dataframe thead th {\n",
       "        text-align: right;\n",
       "    }\n",
       "</style>\n",
       "<table border=\"1\" class=\"dataframe\">\n",
       "  <thead>\n",
       "    <tr style=\"text-align: right;\">\n",
       "      <th></th>\n",
       "      <th>Name</th>\n",
       "      <th>Author</th>\n",
       "      <th>User Rating</th>\n",
       "      <th>Reviews</th>\n",
       "      <th>Price</th>\n",
       "      <th>Year</th>\n",
       "      <th>Genre</th>\n",
       "    </tr>\n",
       "  </thead>\n",
       "  <tbody>\n",
       "    <tr>\n",
       "      <th>0</th>\n",
       "      <td>10-Day Green Smoothie Cleanse</td>\n",
       "      <td>JJ Smith</td>\n",
       "      <td>4.7</td>\n",
       "      <td>17350</td>\n",
       "      <td>8</td>\n",
       "      <td>2016</td>\n",
       "      <td>Non Fiction</td>\n",
       "    </tr>\n",
       "    <tr>\n",
       "      <th>1</th>\n",
       "      <td>11/22/63: A Novel</td>\n",
       "      <td>Stephen King</td>\n",
       "      <td>4.6</td>\n",
       "      <td>2052</td>\n",
       "      <td>22</td>\n",
       "      <td>2011</td>\n",
       "      <td>Fiction</td>\n",
       "    </tr>\n",
       "    <tr>\n",
       "      <th>2</th>\n",
       "      <td>12 Rules for Life: An Antidote to Chaos</td>\n",
       "      <td>Jordan B. Peterson</td>\n",
       "      <td>4.7</td>\n",
       "      <td>18979</td>\n",
       "      <td>15</td>\n",
       "      <td>2018</td>\n",
       "      <td>Non Fiction</td>\n",
       "    </tr>\n",
       "    <tr>\n",
       "      <th>3</th>\n",
       "      <td>1984 (Signet Classics)</td>\n",
       "      <td>George Orwell</td>\n",
       "      <td>4.7</td>\n",
       "      <td>21424</td>\n",
       "      <td>6</td>\n",
       "      <td>2017</td>\n",
       "      <td>Fiction</td>\n",
       "    </tr>\n",
       "    <tr>\n",
       "      <th>4</th>\n",
       "      <td>5,000 Awesome Facts (About Everything!) (Natio...</td>\n",
       "      <td>National Geographic Kids</td>\n",
       "      <td>4.8</td>\n",
       "      <td>7665</td>\n",
       "      <td>12</td>\n",
       "      <td>2019</td>\n",
       "      <td>Non Fiction</td>\n",
       "    </tr>\n",
       "  </tbody>\n",
       "</table>\n",
       "</div>"
      ],
      "text/plain": [
       "                                                Name  \\\n",
       "0                      10-Day Green Smoothie Cleanse   \n",
       "1                                  11/22/63: A Novel   \n",
       "2            12 Rules for Life: An Antidote to Chaos   \n",
       "3                             1984 (Signet Classics)   \n",
       "4  5,000 Awesome Facts (About Everything!) (Natio...   \n",
       "\n",
       "                     Author  User Rating  Reviews  Price  Year        Genre  \n",
       "0                  JJ Smith          4.7    17350      8  2016  Non Fiction  \n",
       "1              Stephen King          4.6     2052     22  2011      Fiction  \n",
       "2        Jordan B. Peterson          4.7    18979     15  2018  Non Fiction  \n",
       "3             George Orwell          4.7    21424      6  2017      Fiction  \n",
       "4  National Geographic Kids          4.8     7665     12  2019  Non Fiction  "
      ]
     },
     "execution_count": 12,
     "metadata": {},
     "output_type": "execute_result"
    }
   ],
   "source": [
    " bestseller_books.head()"
   ]
  },
  {
   "cell_type": "markdown",
   "metadata": {
    "papermill": {
     "duration": 0.040467,
     "end_time": "2021-02-06T18:13:28.852648",
     "exception": false,
     "start_time": "2021-02-06T18:13:28.812181",
     "status": "completed"
    },
    "tags": []
   },
   "source": [
    "**1. The best selling books of the decade.**"
   ]
  },
  {
   "cell_type": "code",
   "execution_count": 13,
   "metadata": {
    "execution": {
     "iopub.execute_input": "2021-02-06T18:13:28.937684Z",
     "iopub.status.busy": "2021-02-06T18:13:28.937009Z",
     "iopub.status.idle": "2021-02-06T18:13:28.979450Z",
     "shell.execute_reply": "2021-02-06T18:13:28.979897Z"
    },
    "papermill": {
     "duration": 0.086465,
     "end_time": "2021-02-06T18:13:28.980071",
     "exception": false,
     "start_time": "2021-02-06T18:13:28.893606",
     "status": "completed"
    },
    "tags": []
   },
   "outputs": [
    {
     "data": {
      "text/html": [
       "<div>\n",
       "<style scoped>\n",
       "    .dataframe tbody tr th:only-of-type {\n",
       "        vertical-align: middle;\n",
       "    }\n",
       "\n",
       "    .dataframe tbody tr th {\n",
       "        vertical-align: top;\n",
       "    }\n",
       "\n",
       "    .dataframe thead tr th {\n",
       "        text-align: left;\n",
       "    }\n",
       "\n",
       "    .dataframe thead tr:last-of-type th {\n",
       "        text-align: right;\n",
       "    }\n",
       "</style>\n",
       "<table border=\"1\" class=\"dataframe\">\n",
       "  <thead>\n",
       "    <tr>\n",
       "      <th></th>\n",
       "      <th colspan=\"5\" halign=\"left\">Reviews</th>\n",
       "    </tr>\n",
       "    <tr>\n",
       "      <th></th>\n",
       "      <th>count</th>\n",
       "      <th>max</th>\n",
       "      <th>mean</th>\n",
       "      <th>min</th>\n",
       "      <th>sum</th>\n",
       "    </tr>\n",
       "    <tr>\n",
       "      <th>Genre</th>\n",
       "      <th></th>\n",
       "      <th></th>\n",
       "      <th></th>\n",
       "      <th></th>\n",
       "      <th></th>\n",
       "    </tr>\n",
       "  </thead>\n",
       "  <tbody>\n",
       "    <tr>\n",
       "      <th>Fiction</th>\n",
       "      <td>16.0</td>\n",
       "      <td>19622.0</td>\n",
       "      <td>7909.125</td>\n",
       "      <td>1884.0</td>\n",
       "      <td>126546.0</td>\n",
       "    </tr>\n",
       "    <tr>\n",
       "      <th>Non Fiction</th>\n",
       "      <td>5.0</td>\n",
       "      <td>7861.0</td>\n",
       "      <td>5137.600</td>\n",
       "      <td>2812.0</td>\n",
       "      <td>25688.0</td>\n",
       "    </tr>\n",
       "  </tbody>\n",
       "</table>\n",
       "</div>"
      ],
      "text/plain": [
       "            Reviews                                     \n",
       "              count      max      mean     min       sum\n",
       "Genre                                                   \n",
       "Fiction        16.0  19622.0  7909.125  1884.0  126546.0\n",
       "Non Fiction     5.0   7861.0  5137.600  2812.0   25688.0"
      ]
     },
     "execution_count": 13,
     "metadata": {},
     "output_type": "execute_result"
    }
   ],
   "source": [
    "decades_best = bestseller_books[bestseller_books['User Rating']==bestseller_books['User Rating'].max()]\n",
    "genre_review = decades_best.pivot_table(index=['Genre'], values=['Reviews'], aggfunc={\"min\",\"max\",\"sum\",\"count\",\"mean\"})\n",
    "genre_review"
   ]
  },
  {
   "cell_type": "markdown",
   "metadata": {
    "papermill": {
     "duration": 0.042153,
     "end_time": "2021-02-06T18:13:29.064074",
     "exception": false,
     "start_time": "2021-02-06T18:13:29.021921",
     "status": "completed"
    },
    "tags": []
   },
   "source": [
    "* The output above show the list of books that recieve the highest user rating, which is 4.9"
   ]
  },
  {
   "cell_type": "code",
   "execution_count": 14,
   "metadata": {
    "execution": {
     "iopub.execute_input": "2021-02-06T18:13:29.177332Z",
     "iopub.status.busy": "2021-02-06T18:13:29.176664Z",
     "iopub.status.idle": "2021-02-06T18:13:29.263951Z",
     "shell.execute_reply": "2021-02-06T18:13:29.264451Z"
    },
    "papermill": {
     "duration": 0.158947,
     "end_time": "2021-02-06T18:13:29.264618",
     "exception": false,
     "start_time": "2021-02-06T18:13:29.105671",
     "status": "completed"
    },
    "tags": []
   },
   "outputs": [
    {
     "data": {
      "image/png": "[encoded data removed]",
      "text/plain": [
       "<Figure size 720x360 with 1 Axes>"
      ]
     },
     "metadata": {},
     "output_type": "display_data"
    }
   ],
   "source": [
    "#Best Selling Books of the decade based on genre\n",
    "plt.figure(figsize=(10,5))\n",
    "plt.pie(bestseller_books['Genre'].value_counts().sort_values(),labels=bestseller_books['Genre'].value_counts().index,explode=[0.05,0],\n",
    "        autopct='%1.2f%%',colors=['plum','salmon'])\n",
    "plt.subplots_adjust(bottom=0, top=0.93, left=0.5, right=1)\n",
    "plt.title(\"Best Selling Books of the Decade based on Genre\",fontweight=\"bold\", fontsize=12)\n",
    "plt.show()"
   ]
  },
  {
   "cell_type": "markdown",
   "metadata": {
    "papermill": {
     "duration": 0.042526,
     "end_time": "2021-02-06T18:13:29.349557",
     "exception": false,
     "start_time": "2021-02-06T18:13:29.307031",
     "status": "completed"
    },
    "tags": []
   },
   "source": [
    "* About 55% of bestselling books in the decade are Fiction"
   ]
  },
  {
   "cell_type": "markdown",
   "metadata": {
    "papermill": {
     "duration": 0.042636,
     "end_time": "2021-02-06T18:13:29.434831",
     "exception": false,
     "start_time": "2021-02-06T18:13:29.392195",
     "status": "completed"
    },
    "tags": []
   },
   "source": [
    "**Box Plot**\n",
    "\n",
    "* A box plot showing the reviews of the highest user rating "
   ]
  },
  {
   "cell_type": "code",
   "execution_count": 15,
   "metadata": {
    "execution": {
     "iopub.execute_input": "2021-02-06T18:13:29.523340Z",
     "iopub.status.busy": "2021-02-06T18:13:29.522729Z",
     "iopub.status.idle": "2021-02-06T18:13:29.652457Z",
     "shell.execute_reply": "2021-02-06T18:13:29.651940Z"
    },
    "papermill": {
     "duration": 0.175221,
     "end_time": "2021-02-06T18:13:29.652602",
     "exception": false,
     "start_time": "2021-02-06T18:13:29.477381",
     "status": "completed"
    },
    "tags": []
   },
   "outputs": [
    {
     "data": {
      "text/plain": [
       "<AxesSubplot:xlabel='User Rating', ylabel='Reviews'>"
      ]
     },
     "execution_count": 15,
     "metadata": {},
     "output_type": "execute_result"
    },
    {
     "data": {
      "image/png": "[encoded data removed]",
      "text/plain": [
       "<Figure size 432x288 with 1 Axes>"
      ]
     },
     "metadata": {
      "needs_background": "light"
     },
     "output_type": "display_data"
    }
   ],
   "source": [
    "sns.boxplot( decades_best['User Rating'], decades_best['Reviews']) "
   ]
  },
  {
   "cell_type": "markdown",
   "metadata": {
    "papermill": {
     "duration": 0.043565,
     "end_time": "2021-02-06T18:13:29.740406",
     "exception": false,
     "start_time": "2021-02-06T18:13:29.696841",
     "status": "completed"
    },
    "tags": []
   },
   "source": [
    "**2. The percentage of fiction to non-fiction.**"
   ]
  },
  {
   "cell_type": "markdown",
   "metadata": {
    "papermill": {
     "duration": 0.044027,
     "end_time": "2021-02-06T18:13:29.828786",
     "exception": false,
     "start_time": "2021-02-06T18:13:29.784759",
     "status": "completed"
    },
    "tags": []
   },
   "source": [
    "* First grouping based on \"User Rating\". Within each User Rating we are grouping based on \"Genre\" \n"
   ]
  },
  {
   "cell_type": "code",
   "execution_count": 16,
   "metadata": {
    "execution": {
     "iopub.execute_input": "2021-02-06T18:13:29.927639Z",
     "iopub.status.busy": "2021-02-06T18:13:29.926984Z",
     "iopub.status.idle": "2021-02-06T18:13:29.946490Z",
     "shell.execute_reply": "2021-02-06T18:13:29.945929Z"
    },
    "papermill": {
     "duration": 0.073685,
     "end_time": "2021-02-06T18:13:29.946645",
     "exception": false,
     "start_time": "2021-02-06T18:13:29.872960",
     "status": "completed"
    },
    "tags": []
   },
   "outputs": [
    {
     "data": {
      "text/html": [
       "<div>\n",
       "<style scoped>\n",
       "    .dataframe tbody tr th:only-of-type {\n",
       "        vertical-align: middle;\n",
       "    }\n",
       "\n",
       "    .dataframe tbody tr th {\n",
       "        vertical-align: top;\n",
       "    }\n",
       "\n",
       "    .dataframe thead th {\n",
       "        text-align: right;\n",
       "    }\n",
       "</style>\n",
       "<table border=\"1\" class=\"dataframe\">\n",
       "  <thead>\n",
       "    <tr style=\"text-align: right;\">\n",
       "      <th></th>\n",
       "      <th></th>\n",
       "      <th>Name</th>\n",
       "      <th>Author</th>\n",
       "      <th>Reviews</th>\n",
       "      <th>Price</th>\n",
       "      <th>Year</th>\n",
       "    </tr>\n",
       "    <tr>\n",
       "      <th>User Rating</th>\n",
       "      <th>Genre</th>\n",
       "      <th></th>\n",
       "      <th></th>\n",
       "      <th></th>\n",
       "      <th></th>\n",
       "      <th></th>\n",
       "    </tr>\n",
       "  </thead>\n",
       "  <tbody>\n",
       "    <tr>\n",
       "      <th>3.3</th>\n",
       "      <th>Fiction</th>\n",
       "      <td>The Casual Vacancy</td>\n",
       "      <td>J.K. Rowling</td>\n",
       "      <td>9372</td>\n",
       "      <td>12</td>\n",
       "      <td>2012</td>\n",
       "    </tr>\n",
       "    <tr>\n",
       "      <th>3.6</th>\n",
       "      <th>Fiction</th>\n",
       "      <td>Go Set a Watchman: A Novel</td>\n",
       "      <td>Harper Lee</td>\n",
       "      <td>14982</td>\n",
       "      <td>19</td>\n",
       "      <td>2015</td>\n",
       "    </tr>\n",
       "    <tr>\n",
       "      <th>3.9</th>\n",
       "      <th>Fiction</th>\n",
       "      <td>Allegiant</td>\n",
       "      <td>Veronica Roth</td>\n",
       "      <td>6310</td>\n",
       "      <td>13</td>\n",
       "      <td>2013</td>\n",
       "    </tr>\n",
       "    <tr>\n",
       "      <th>4.0</th>\n",
       "      <th>Fiction</th>\n",
       "      <td>Harry Potter and the Cursed Child, Parts 1 &amp; 2...</td>\n",
       "      <td>J.K. Rowling</td>\n",
       "      <td>23973</td>\n",
       "      <td>12</td>\n",
       "      <td>2016</td>\n",
       "    </tr>\n",
       "    <tr>\n",
       "      <th rowspan=\"2\" valign=\"top\">4.1</th>\n",
       "      <th>Fiction</th>\n",
       "      <td>Inferno</td>\n",
       "      <td>Dan Brown</td>\n",
       "      <td>29651</td>\n",
       "      <td>14</td>\n",
       "      <td>2013</td>\n",
       "    </tr>\n",
       "    <tr>\n",
       "      <th>Non Fiction</th>\n",
       "      <td>Shred: The Revolutionary Diet: 6 Weeks 4 Inche...</td>\n",
       "      <td>Ian K. Smith M.D.</td>\n",
       "      <td>2272</td>\n",
       "      <td>6</td>\n",
       "      <td>2013</td>\n",
       "    </tr>\n",
       "    <tr>\n",
       "      <th rowspan=\"2\" valign=\"top\">4.2</th>\n",
       "      <th>Fiction</th>\n",
       "      <td>Dead Reckoning (Sookie Stackhouse/True Blood, ...</td>\n",
       "      <td>Charlaine Harris</td>\n",
       "      <td>2094</td>\n",
       "      <td>4</td>\n",
       "      <td>2011</td>\n",
       "    </tr>\n",
       "    <tr>\n",
       "      <th>Non Fiction</th>\n",
       "      <td>Autobiography of Mark Twain, Vol. 1</td>\n",
       "      <td>Mark Twain</td>\n",
       "      <td>491</td>\n",
       "      <td>14</td>\n",
       "      <td>2010</td>\n",
       "    </tr>\n",
       "    <tr>\n",
       "      <th rowspan=\"2\" valign=\"top\">4.3</th>\n",
       "      <th>Fiction</th>\n",
       "      <td>And the Mountains Echoed</td>\n",
       "      <td>Khaled Hosseini</td>\n",
       "      <td>12159</td>\n",
       "      <td>13</td>\n",
       "      <td>2013</td>\n",
       "    </tr>\n",
       "    <tr>\n",
       "      <th>Non Fiction</th>\n",
       "      <td>Eat This, Not That! Thousands of Simple Food S...</td>\n",
       "      <td>David Zinczenko</td>\n",
       "      <td>956</td>\n",
       "      <td>14</td>\n",
       "      <td>2009</td>\n",
       "    </tr>\n",
       "    <tr>\n",
       "      <th rowspan=\"2\" valign=\"top\">4.4</th>\n",
       "      <th>Fiction</th>\n",
       "      <td>A Dance with Dragons (A Song of Ice and Fire)</td>\n",
       "      <td>George R. R. Martin</td>\n",
       "      <td>12643</td>\n",
       "      <td>11</td>\n",
       "      <td>2011</td>\n",
       "    </tr>\n",
       "    <tr>\n",
       "      <th>Non Fiction</th>\n",
       "      <td>Adult Coloring Book: Stress Relieving Patterns</td>\n",
       "      <td>Blue Star Coloring</td>\n",
       "      <td>2951</td>\n",
       "      <td>6</td>\n",
       "      <td>2015</td>\n",
       "    </tr>\n",
       "    <tr>\n",
       "      <th rowspan=\"2\" valign=\"top\">4.5</th>\n",
       "      <th>Fiction</th>\n",
       "      <td>A Wrinkle in Time (Time Quintet)</td>\n",
       "      <td>Madeleine L'Engle</td>\n",
       "      <td>5153</td>\n",
       "      <td>5</td>\n",
       "      <td>2018</td>\n",
       "    </tr>\n",
       "    <tr>\n",
       "      <th>Non Fiction</th>\n",
       "      <td>Adult Coloring Book Designs: Stress Relief Col...</td>\n",
       "      <td>Adult Coloring Book Designs</td>\n",
       "      <td>2313</td>\n",
       "      <td>4</td>\n",
       "      <td>2016</td>\n",
       "    </tr>\n",
       "    <tr>\n",
       "      <th rowspan=\"2\" valign=\"top\">4.6</th>\n",
       "      <th>Fiction</th>\n",
       "      <td>11/22/63: A Novel</td>\n",
       "      <td>Stephen King</td>\n",
       "      <td>2052</td>\n",
       "      <td>22</td>\n",
       "      <td>2011</td>\n",
       "    </tr>\n",
       "    <tr>\n",
       "      <th>Non Fiction</th>\n",
       "      <td>A Patriot's History of the United States: From...</td>\n",
       "      <td>Larry Schweikart</td>\n",
       "      <td>460</td>\n",
       "      <td>2</td>\n",
       "      <td>2010</td>\n",
       "    </tr>\n",
       "    <tr>\n",
       "      <th rowspan=\"2\" valign=\"top\">4.7</th>\n",
       "      <th>Fiction</th>\n",
       "      <td>1984 (Signet Classics)</td>\n",
       "      <td>George Orwell</td>\n",
       "      <td>21424</td>\n",
       "      <td>6</td>\n",
       "      <td>2017</td>\n",
       "    </tr>\n",
       "    <tr>\n",
       "      <th>Non Fiction</th>\n",
       "      <td>10-Day Green Smoothie Cleanse</td>\n",
       "      <td>JJ Smith</td>\n",
       "      <td>17350</td>\n",
       "      <td>8</td>\n",
       "      <td>2016</td>\n",
       "    </tr>\n",
       "    <tr>\n",
       "      <th rowspan=\"2\" valign=\"top\">4.8</th>\n",
       "      <th>Fiction</th>\n",
       "      <td>Cabin Fever (Diary of a Wimpy Kid, Book 6)</td>\n",
       "      <td>Jeff Kinney</td>\n",
       "      <td>4505</td>\n",
       "      <td>0</td>\n",
       "      <td>2011</td>\n",
       "    </tr>\n",
       "    <tr>\n",
       "      <th>Non Fiction</th>\n",
       "      <td>5,000 Awesome Facts (About Everything!) (Natio...</td>\n",
       "      <td>National Geographic Kids</td>\n",
       "      <td>7665</td>\n",
       "      <td>12</td>\n",
       "      <td>2019</td>\n",
       "    </tr>\n",
       "    <tr>\n",
       "      <th rowspan=\"2\" valign=\"top\">4.9</th>\n",
       "      <th>Fiction</th>\n",
       "      <td>Dog Man and Cat Kid: From the Creator of Capta...</td>\n",
       "      <td>Dav Pilkey</td>\n",
       "      <td>5062</td>\n",
       "      <td>6</td>\n",
       "      <td>2018</td>\n",
       "    </tr>\n",
       "    <tr>\n",
       "      <th>Non Fiction</th>\n",
       "      <td>Hamilton: The Revolution</td>\n",
       "      <td>Lin-Manuel Miranda</td>\n",
       "      <td>5867</td>\n",
       "      <td>54</td>\n",
       "      <td>2016</td>\n",
       "    </tr>\n",
       "  </tbody>\n",
       "</table>\n",
       "</div>"
      ],
      "text/plain": [
       "                                                                      Name  \\\n",
       "User Rating Genre                                                            \n",
       "3.3         Fiction                                     The Casual Vacancy   \n",
       "3.6         Fiction                             Go Set a Watchman: A Novel   \n",
       "3.9         Fiction                                              Allegiant   \n",
       "4.0         Fiction      Harry Potter and the Cursed Child, Parts 1 & 2...   \n",
       "4.1         Fiction                                                Inferno   \n",
       "            Non Fiction  Shred: The Revolutionary Diet: 6 Weeks 4 Inche...   \n",
       "4.2         Fiction      Dead Reckoning (Sookie Stackhouse/True Blood, ...   \n",
       "            Non Fiction                Autobiography of Mark Twain, Vol. 1   \n",
       "4.3         Fiction                               And the Mountains Echoed   \n",
       "            Non Fiction  Eat This, Not That! Thousands of Simple Food S...   \n",
       "4.4         Fiction          A Dance with Dragons (A Song of Ice and Fire)   \n",
       "            Non Fiction     Adult Coloring Book: Stress Relieving Patterns   \n",
       "4.5         Fiction                       A Wrinkle in Time (Time Quintet)   \n",
       "            Non Fiction  Adult Coloring Book Designs: Stress Relief Col...   \n",
       "4.6         Fiction                                      11/22/63: A Novel   \n",
       "            Non Fiction  A Patriot's History of the United States: From...   \n",
       "4.7         Fiction                                 1984 (Signet Classics)   \n",
       "            Non Fiction                      10-Day Green Smoothie Cleanse   \n",
       "4.8         Fiction             Cabin Fever (Diary of a Wimpy Kid, Book 6)   \n",
       "            Non Fiction  5,000 Awesome Facts (About Everything!) (Natio...   \n",
       "4.9         Fiction      Dog Man and Cat Kid: From the Creator of Capta...   \n",
       "            Non Fiction                           Hamilton: The Revolution   \n",
       "\n",
       "                                              Author  Reviews  Price  Year  \n",
       "User Rating Genre                                                           \n",
       "3.3         Fiction                     J.K. Rowling     9372     12  2012  \n",
       "3.6         Fiction                       Harper Lee    14982     19  2015  \n",
       "3.9         Fiction                    Veronica Roth     6310     13  2013  \n",
       "4.0         Fiction                     J.K. Rowling    23973     12  2016  \n",
       "4.1         Fiction                        Dan Brown    29651     14  2013  \n",
       "            Non Fiction            Ian K. Smith M.D.     2272      6  2013  \n",
       "4.2         Fiction                 Charlaine Harris     2094      4  2011  \n",
       "            Non Fiction                   Mark Twain      491     14  2010  \n",
       "4.3         Fiction                  Khaled Hosseini    12159     13  2013  \n",
       "            Non Fiction              David Zinczenko      956     14  2009  \n",
       "4.4         Fiction              George R. R. Martin    12643     11  2011  \n",
       "            Non Fiction           Blue Star Coloring     2951      6  2015  \n",
       "4.5         Fiction                Madeleine L'Engle     5153      5  2018  \n",
       "            Non Fiction  Adult Coloring Book Designs     2313      4  2016  \n",
       "4.6         Fiction                     Stephen King     2052     22  2011  \n",
       "            Non Fiction             Larry Schweikart      460      2  2010  \n",
       "4.7         Fiction                    George Orwell    21424      6  2017  \n",
       "            Non Fiction                     JJ Smith    17350      8  2016  \n",
       "4.8         Fiction                      Jeff Kinney     4505      0  2011  \n",
       "            Non Fiction     National Geographic Kids     7665     12  2019  \n",
       "4.9         Fiction                       Dav Pilkey     5062      6  2018  \n",
       "            Non Fiction           Lin-Manuel Miranda     5867     54  2016  "
      ]
     },
     "execution_count": 16,
     "metadata": {},
     "output_type": "execute_result"
    }
   ],
   "source": [
    "genre_rating = bestseller_books.groupby(['User Rating', 'Genre']) \n",
    "  \n",
    "# Print the first book in each group \n",
    "genre_rating.first() "
   ]
  },
  {
   "cell_type": "markdown",
   "metadata": {
    "papermill": {
     "duration": 0.044557,
     "end_time": "2021-02-06T18:13:30.036472",
     "exception": false,
     "start_time": "2021-02-06T18:13:29.991915",
     "status": "completed"
    },
    "tags": []
   },
   "source": [
    "* Distribution of different genre categories based on the user rating, reviews, price and year"
   ]
  },
  {
   "cell_type": "code",
   "execution_count": 17,
   "metadata": {
    "execution": {
     "iopub.execute_input": "2021-02-06T18:13:30.129940Z",
     "iopub.status.busy": "2021-02-06T18:13:30.129321Z",
     "iopub.status.idle": "2021-02-06T18:13:31.079842Z",
     "shell.execute_reply": "2021-02-06T18:13:31.080343Z"
    },
    "papermill": {
     "duration": 0.998378,
     "end_time": "2021-02-06T18:13:31.080510",
     "exception": false,
     "start_time": "2021-02-06T18:13:30.082132",
     "status": "completed"
    },
    "tags": []
   },
   "outputs": [
    {
     "data": {
      "image/png": "[encoded data removed]",
      "text/plain": [
       "<Figure size 2160x1080 with 4 Axes>"
      ]
     },
     "metadata": {},
     "output_type": "display_data"
    }
   ],
   "source": [
    "genre_grp = bestseller_books.groupby('Genre').sum().plot(kind='pie',title=\"Percentage of Fiction & Non Fiction Books\",\n",
    "                                        subplots=True, shadow = True,startangle=90,\n",
    "figsize=(30,15), autopct='%1.1f%%')"
   ]
  },
  {
   "cell_type": "markdown",
   "metadata": {
    "papermill": {
     "duration": 0.046584,
     "end_time": "2021-02-06T18:13:31.174384",
     "exception": false,
     "start_time": "2021-02-06T18:13:31.127800",
     "status": "completed"
    },
    "tags": []
   },
   "source": [
    "* About 55% of bestselling books are Non Fiction based on the ratings, pricing and year\n",
    "* About 63% of Fictions are thought to be bestselling books based on the readers reviews"
   ]
  },
  {
   "cell_type": "markdown",
   "metadata": {
    "papermill": {
     "duration": 0.047426,
     "end_time": "2021-02-06T18:13:31.269072",
     "exception": false,
     "start_time": "2021-02-06T18:13:31.221646",
     "status": "completed"
    },
    "tags": []
   },
   "source": [
    "* To get the total reviews per genre."
   ]
  },
  {
   "cell_type": "code",
   "execution_count": 18,
   "metadata": {
    "execution": {
     "iopub.execute_input": "2021-02-06T18:13:31.368783Z",
     "iopub.status.busy": "2021-02-06T18:13:31.367796Z",
     "iopub.status.idle": "2021-02-06T18:13:31.398171Z",
     "shell.execute_reply": "2021-02-06T18:13:31.397614Z"
    },
    "papermill": {
     "duration": 0.081358,
     "end_time": "2021-02-06T18:13:31.398347",
     "exception": false,
     "start_time": "2021-02-06T18:13:31.316989",
     "status": "completed"
    },
    "tags": []
   },
   "outputs": [
    {
     "data": {
      "text/html": [
       "<div>\n",
       "<style scoped>\n",
       "    .dataframe tbody tr th:only-of-type {\n",
       "        vertical-align: middle;\n",
       "    }\n",
       "\n",
       "    .dataframe tbody tr th {\n",
       "        vertical-align: top;\n",
       "    }\n",
       "\n",
       "    .dataframe thead tr th {\n",
       "        text-align: left;\n",
       "    }\n",
       "\n",
       "    .dataframe thead tr:last-of-type th {\n",
       "        text-align: right;\n",
       "    }\n",
       "</style>\n",
       "<table border=\"1\" class=\"dataframe\">\n",
       "  <thead>\n",
       "    <tr>\n",
       "      <th></th>\n",
       "      <th colspan=\"5\" halign=\"left\">Reviews</th>\n",
       "    </tr>\n",
       "    <tr>\n",
       "      <th></th>\n",
       "      <th>count</th>\n",
       "      <th>max</th>\n",
       "      <th>mean</th>\n",
       "      <th>min</th>\n",
       "      <th>sum</th>\n",
       "    </tr>\n",
       "    <tr>\n",
       "      <th>Genre</th>\n",
       "      <th></th>\n",
       "      <th></th>\n",
       "      <th></th>\n",
       "      <th></th>\n",
       "      <th></th>\n",
       "    </tr>\n",
       "  </thead>\n",
       "  <tbody>\n",
       "    <tr>\n",
       "      <th>Fiction</th>\n",
       "      <td>116.0</td>\n",
       "      <td>87841.0</td>\n",
       "      <td>10109.275862</td>\n",
       "      <td>548.0</td>\n",
       "      <td>1172676.0</td>\n",
       "    </tr>\n",
       "    <tr>\n",
       "      <th>Non Fiction</th>\n",
       "      <td>139.0</td>\n",
       "      <td>18979.0</td>\n",
       "      <td>4994.964029</td>\n",
       "      <td>37.0</td>\n",
       "      <td>694300.0</td>\n",
       "    </tr>\n",
       "  </tbody>\n",
       "</table>\n",
       "</div>"
      ],
      "text/plain": [
       "            Reviews                                         \n",
       "              count      max          mean    min        sum\n",
       "Genre                                                       \n",
       "Fiction       116.0  87841.0  10109.275862  548.0  1172676.0\n",
       "Non Fiction   139.0  18979.0   4994.964029   37.0   694300.0"
      ]
     },
     "execution_count": 18,
     "metadata": {},
     "output_type": "execute_result"
    }
   ],
   "source": [
    "genre_review = bestseller_books.pivot_table(index=['Genre'], values=['Reviews'], aggfunc={\"min\",\"max\",\"sum\",\"count\",\"mean\"})\n",
    "genre_review"
   ]
  },
  {
   "cell_type": "markdown",
   "metadata": {
    "papermill": {
     "duration": 0.047768,
     "end_time": "2021-02-06T18:13:31.494051",
     "exception": false,
     "start_time": "2021-02-06T18:13:31.446283",
     "status": "completed"
    },
    "tags": []
   },
   "source": [
    "* This allows you to sum the reviews (across all user ratings) per genre by using the aggfunc=’sum’ operation."
   ]
  },
  {
   "cell_type": "code",
   "execution_count": 19,
   "metadata": {
    "execution": {
     "iopub.execute_input": "2021-02-06T18:13:31.616560Z",
     "iopub.status.busy": "2021-02-06T18:13:31.615841Z",
     "iopub.status.idle": "2021-02-06T18:13:32.335270Z",
     "shell.execute_reply": "2021-02-06T18:13:32.334766Z"
    },
    "papermill": {
     "duration": 0.793592,
     "end_time": "2021-02-06T18:13:32.335418",
     "exception": false,
     "start_time": "2021-02-06T18:13:31.541826",
     "status": "completed"
    },
    "tags": []
   },
   "outputs": [
    {
     "data": {
      "image/png": "[encoded data removed]",
      "text/plain": [
       "<Figure size 2160x1440 with 5 Axes>"
      ]
     },
     "metadata": {},
     "output_type": "display_data"
    }
   ],
   "source": [
    "genre_review.plot.pie(subplots=True, figsize=(30, 20),autopct='%1.1f%%' );"
   ]
  },
  {
   "cell_type": "markdown",
   "metadata": {
    "papermill": {
     "duration": 0.049393,
     "end_time": "2021-02-06T18:13:32.434183",
     "exception": false,
     "start_time": "2021-02-06T18:13:32.384790",
     "status": "completed"
    },
    "tags": []
   },
   "source": [
    "* Distribution of Genre based on pricing"
   ]
  },
  {
   "cell_type": "code",
   "execution_count": 20,
   "metadata": {
    "execution": {
     "iopub.execute_input": "2021-02-06T18:13:32.548415Z",
     "iopub.status.busy": "2021-02-06T18:13:32.547673Z",
     "iopub.status.idle": "2021-02-06T18:13:32.551283Z",
     "shell.execute_reply": "2021-02-06T18:13:32.550640Z"
    },
    "papermill": {
     "duration": 0.067975,
     "end_time": "2021-02-06T18:13:32.551439",
     "exception": false,
     "start_time": "2021-02-06T18:13:32.483464",
     "status": "completed"
    },
    "tags": []
   },
   "outputs": [
    {
     "data": {
      "text/html": [
       "<div>\n",
       "<style scoped>\n",
       "    .dataframe tbody tr th:only-of-type {\n",
       "        vertical-align: middle;\n",
       "    }\n",
       "\n",
       "    .dataframe tbody tr th {\n",
       "        vertical-align: top;\n",
       "    }\n",
       "\n",
       "    .dataframe thead th {\n",
       "        text-align: right;\n",
       "    }\n",
       "</style>\n",
       "<table border=\"1\" class=\"dataframe\">\n",
       "  <thead>\n",
       "    <tr style=\"text-align: right;\">\n",
       "      <th></th>\n",
       "      <th>Price</th>\n",
       "    </tr>\n",
       "    <tr>\n",
       "      <th>Genre</th>\n",
       "      <th></th>\n",
       "    </tr>\n",
       "  </thead>\n",
       "  <tbody>\n",
       "    <tr>\n",
       "      <th>Fiction</th>\n",
       "      <td>1540</td>\n",
       "    </tr>\n",
       "    <tr>\n",
       "      <th>Non Fiction</th>\n",
       "      <td>1847</td>\n",
       "    </tr>\n",
       "  </tbody>\n",
       "</table>\n",
       "</div>"
      ],
      "text/plain": [
       "             Price\n",
       "Genre             \n",
       "Fiction       1540\n",
       "Non Fiction   1847"
      ]
     },
     "execution_count": 20,
     "metadata": {},
     "output_type": "execute_result"
    }
   ],
   "source": [
    "genre_price = bestseller_books.pivot_table(index=['Genre'], values=['Price'], aggfunc=\"sum\")\n",
    "genre_price"
   ]
  },
  {
   "cell_type": "code",
   "execution_count": 21,
   "metadata": {
    "execution": {
     "iopub.execute_input": "2021-02-06T18:13:32.686218Z",
     "iopub.status.busy": "2021-02-06T18:13:32.673837Z",
     "iopub.status.idle": "2021-02-06T18:13:32.827492Z",
     "shell.execute_reply": "2021-02-06T18:13:32.827016Z"
    },
    "papermill": {
     "duration": 0.226884,
     "end_time": "2021-02-06T18:13:32.827627",
     "exception": false,
     "start_time": "2021-02-06T18:13:32.600743",
     "status": "completed"
    },
    "tags": []
   },
   "outputs": [
    {
     "data": {
      "image/png": "[encoded data removed]",
      "text/plain": [
       "<Figure size 1080x720 with 1 Axes>"
      ]
     },
     "metadata": {},
     "output_type": "display_data"
    }
   ],
   "source": [
    "genre_price.plot.pie(subplots=True, figsize=(15, 10),autopct='%1.1f%%' );"
   ]
  },
  {
   "cell_type": "markdown",
   "metadata": {
    "papermill": {
     "duration": 0.050942,
     "end_time": "2021-02-06T18:13:32.928569",
     "exception": false,
     "start_time": "2021-02-06T18:13:32.877627",
     "status": "completed"
    },
    "tags": []
   },
   "source": [
    "* About 60% of bestselling books are Fiction, based on the book pricing over the years"
   ]
  },
  {
   "cell_type": "markdown",
   "metadata": {
    "papermill": {
     "duration": 0.050659,
     "end_time": "2021-02-06T18:13:33.031102",
     "exception": false,
     "start_time": "2021-02-06T18:13:32.980443",
     "status": "completed"
    },
    "tags": []
   },
   "source": [
    "**3. Trends over the years.**"
   ]
  },
  {
   "cell_type": "markdown",
   "metadata": {
    "papermill": {
     "duration": 0.050707,
     "end_time": "2021-02-06T18:13:33.133349",
     "exception": false,
     "start_time": "2021-02-06T18:13:33.082642",
     "status": "completed"
    },
    "tags": []
   },
   "source": [
    "**Violin Plot**"
   ]
  },
  {
   "cell_type": "code",
   "execution_count": 22,
   "metadata": {
    "execution": {
     "iopub.execute_input": "2021-02-06T18:13:33.263127Z",
     "iopub.status.busy": "2021-02-06T18:13:33.262502Z",
     "iopub.status.idle": "2021-02-06T18:13:33.697093Z",
     "shell.execute_reply": "2021-02-06T18:13:33.697609Z"
    },
    "papermill": {
     "duration": 0.512532,
     "end_time": "2021-02-06T18:13:33.697782",
     "exception": false,
     "start_time": "2021-02-06T18:13:33.185250",
     "status": "completed"
    },
    "tags": []
   },
   "outputs": [
    {
     "data": {
      "text/plain": [
       "Text(0.5, 1.0, 'Book prices over the years')"
      ]
     },
     "execution_count": 22,
     "metadata": {},
     "output_type": "execute_result"
    },
    {
     "data": {
      "image/png": "[encoded data removed]",
      "text/plain": [
       "<Figure size 1080x1152 with 1 Axes>"
      ]
     },
     "metadata": {
      "needs_background": "light"
     },
     "output_type": "display_data"
    }
   ],
   "source": [
    "plt.figure(figsize=(15,16))\n",
    "\n",
    "trend = sns.violinplot(data=bestseller_books,\n",
    "                   x = 'Year',\n",
    "                   y = 'Price', width=1.20, fliersize=30, bw=5)\n",
    "trend.set_title(\"Book prices over the years\")\n"
   ]
  },
  {
   "cell_type": "markdown",
   "metadata": {
    "papermill": {
     "duration": 0.05369,
     "end_time": "2021-02-06T18:13:33.806195",
     "exception": false,
     "start_time": "2021-02-06T18:13:33.752505",
     "status": "completed"
    },
    "tags": []
   },
   "source": [
    "* This violin plot shows the relationship of year to book pricing. The box plot elements show the median pricinf for book sold in 2015 was lower than for other years. The shape of the distribution; the extremely skinny on each end and wide in the middle, indicates that the price of books in year 2009 was higher"
   ]
  },
  {
   "cell_type": "code",
   "execution_count": 23,
   "metadata": {
    "execution": {
     "iopub.execute_input": "2021-02-06T18:13:33.929898Z",
     "iopub.status.busy": "2021-02-06T18:13:33.929137Z",
     "iopub.status.idle": "2021-02-06T18:13:33.933949Z",
     "shell.execute_reply": "2021-02-06T18:13:33.933454Z"
    },
    "papermill": {
     "duration": 0.07262,
     "end_time": "2021-02-06T18:13:33.934094",
     "exception": false,
     "start_time": "2021-02-06T18:13:33.861474",
     "status": "completed"
    },
    "tags": []
   },
   "outputs": [
    {
     "data": {
      "text/html": [
       "<div>\n",
       "<style scoped>\n",
       "    .dataframe tbody tr th:only-of-type {\n",
       "        vertical-align: middle;\n",
       "    }\n",
       "\n",
       "    .dataframe tbody tr th {\n",
       "        vertical-align: top;\n",
       "    }\n",
       "\n",
       "    .dataframe thead th {\n",
       "        text-align: right;\n",
       "    }\n",
       "</style>\n",
       "<table border=\"1\" class=\"dataframe\">\n",
       "  <thead>\n",
       "    <tr style=\"text-align: right;\">\n",
       "      <th></th>\n",
       "      <th>Name</th>\n",
       "      <th>Author</th>\n",
       "      <th>User Rating</th>\n",
       "      <th>Reviews</th>\n",
       "      <th>Price</th>\n",
       "      <th>Year</th>\n",
       "      <th>Genre</th>\n",
       "    </tr>\n",
       "  </thead>\n",
       "  <tbody>\n",
       "    <tr>\n",
       "      <th>0</th>\n",
       "      <td>10-Day Green Smoothie Cleanse</td>\n",
       "      <td>JJ Smith</td>\n",
       "      <td>4.7</td>\n",
       "      <td>17350</td>\n",
       "      <td>8</td>\n",
       "      <td>2016</td>\n",
       "      <td>Non Fiction</td>\n",
       "    </tr>\n",
       "    <tr>\n",
       "      <th>1</th>\n",
       "      <td>11/22/63: A Novel</td>\n",
       "      <td>Stephen King</td>\n",
       "      <td>4.6</td>\n",
       "      <td>2052</td>\n",
       "      <td>22</td>\n",
       "      <td>2011</td>\n",
       "      <td>Fiction</td>\n",
       "    </tr>\n",
       "    <tr>\n",
       "      <th>2</th>\n",
       "      <td>12 Rules for Life: An Antidote to Chaos</td>\n",
       "      <td>Jordan B. Peterson</td>\n",
       "      <td>4.7</td>\n",
       "      <td>18979</td>\n",
       "      <td>15</td>\n",
       "      <td>2018</td>\n",
       "      <td>Non Fiction</td>\n",
       "    </tr>\n",
       "    <tr>\n",
       "      <th>3</th>\n",
       "      <td>1984 (Signet Classics)</td>\n",
       "      <td>George Orwell</td>\n",
       "      <td>4.7</td>\n",
       "      <td>21424</td>\n",
       "      <td>6</td>\n",
       "      <td>2017</td>\n",
       "      <td>Fiction</td>\n",
       "    </tr>\n",
       "    <tr>\n",
       "      <th>4</th>\n",
       "      <td>5,000 Awesome Facts (About Everything!) (Natio...</td>\n",
       "      <td>National Geographic Kids</td>\n",
       "      <td>4.8</td>\n",
       "      <td>7665</td>\n",
       "      <td>12</td>\n",
       "      <td>2019</td>\n",
       "      <td>Non Fiction</td>\n",
       "    </tr>\n",
       "  </tbody>\n",
       "</table>\n",
       "</div>"
      ],
      "text/plain": [
       "                                                Name  \\\n",
       "0                      10-Day Green Smoothie Cleanse   \n",
       "1                                  11/22/63: A Novel   \n",
       "2            12 Rules for Life: An Antidote to Chaos   \n",
       "3                             1984 (Signet Classics)   \n",
       "4  5,000 Awesome Facts (About Everything!) (Natio...   \n",
       "\n",
       "                     Author  User Rating  Reviews  Price  Year        Genre  \n",
       "0                  JJ Smith          4.7    17350      8  2016  Non Fiction  \n",
       "1              Stephen King          4.6     2052     22  2011      Fiction  \n",
       "2        Jordan B. Peterson          4.7    18979     15  2018  Non Fiction  \n",
       "3             George Orwell          4.7    21424      6  2017      Fiction  \n",
       "4  National Geographic Kids          4.8     7665     12  2019  Non Fiction  "
      ]
     },
     "execution_count": 23,
     "metadata": {},
     "output_type": "execute_result"
    }
   ],
   "source": [
    "bestseller_books.head()"
   ]
  },
  {
   "cell_type": "markdown",
   "metadata": {
    "papermill": {
     "duration": 0.055722,
     "end_time": "2021-02-06T18:13:34.046552",
     "exception": false,
     "start_time": "2021-02-06T18:13:33.990830",
     "status": "completed"
    },
    "tags": []
   },
   "source": [
    "**Scatter Plot**"
   ]
  },
  {
   "cell_type": "markdown",
   "metadata": {
    "papermill": {
     "duration": 0.055818,
     "end_time": "2021-02-06T18:13:34.163365",
     "exception": false,
     "start_time": "2021-02-06T18:13:34.107547",
     "status": "completed"
    },
    "tags": []
   },
   "source": [
    "* Assigning columns to variables to ease using them when plotting\n"
   ]
  },
  {
   "cell_type": "code",
   "execution_count": 24,
   "metadata": {
    "execution": {
     "iopub.execute_input": "2021-02-06T18:13:34.282103Z",
     "iopub.status.busy": "2021-02-06T18:13:34.281456Z",
     "iopub.status.idle": "2021-02-06T18:13:34.284449Z",
     "shell.execute_reply": "2021-02-06T18:13:34.283912Z"
    },
    "papermill": {
     "duration": 0.065434,
     "end_time": "2021-02-06T18:13:34.284592",
     "exception": false,
     "start_time": "2021-02-06T18:13:34.219158",
     "status": "completed"
    },
    "tags": []
   },
   "outputs": [],
   "source": [
    "book = bestseller_books['Name']\n",
    "author = bestseller_books['Author']\n",
    "user_rating = bestseller_books['User Rating']\n",
    "reviews = bestseller_books['Reviews']\n",
    "price = bestseller_books['Price']\n",
    "year = bestseller_books['Year']\n",
    "genre = bestseller_books['Genre']"
   ]
  },
  {
   "cell_type": "code",
   "execution_count": 25,
   "metadata": {
    "execution": {
     "iopub.execute_input": "2021-02-06T18:13:34.401459Z",
     "iopub.status.busy": "2021-02-06T18:13:34.400763Z",
     "iopub.status.idle": "2021-02-06T18:13:34.654663Z",
     "shell.execute_reply": "2021-02-06T18:13:34.653987Z"
    },
    "papermill": {
     "duration": 0.313852,
     "end_time": "2021-02-06T18:13:34.654813",
     "exception": false,
     "start_time": "2021-02-06T18:13:34.340961",
     "status": "completed"
    },
    "tags": []
   },
   "outputs": [
    {
     "data": {
      "image/png": "[encoded data removed]",
      "text/plain": [
       "<Figure size 720x360 with 2 Axes>"
      ]
     },
     "metadata": {
      "needs_background": "light"
     },
     "output_type": "display_data"
    }
   ],
   "source": [
    "plt.figure(figsize = (10,5))\n",
    "plt.title('Year ratings')\n",
    "\n",
    "colours = np.arange(len(year))\n",
    "\n",
    "\n",
    "plt.xlabel('Year')\n",
    "plt.ylabel('User Ratings')\n",
    "\n",
    "plt.scatter(year, user_rating, c = colours, cmap = 'Blues', marker = 'o', alpha = 0.75, edgecolor = 'k')\n",
    "\n",
    "cbar = plt.colorbar()\n",
    "cbar.set_label('Intensity')\n",
    "\n",
    "plt.show()"
   ]
  },
  {
   "cell_type": "markdown",
   "metadata": {
    "papermill": {
     "duration": 0.057617,
     "end_time": "2021-02-06T18:13:34.770261",
     "exception": false,
     "start_time": "2021-02-06T18:13:34.712644",
     "status": "completed"
    },
    "tags": []
   },
   "source": [
    "* The scatter plots helps us understand how the User Ratings is changing based on the years."
   ]
  },
  {
   "cell_type": "markdown",
   "metadata": {
    "papermill": {
     "duration": 0.057074,
     "end_time": "2021-02-06T18:13:34.886210",
     "exception": false,
     "start_time": "2021-02-06T18:13:34.829136",
     "status": "completed"
    },
    "tags": []
   },
   "source": [
    "**4. Top 10 Authors according to reviews**"
   ]
  },
  {
   "cell_type": "markdown",
   "metadata": {
    "papermill": {
     "duration": 0.057013,
     "end_time": "2021-02-06T18:13:35.005616",
     "exception": false,
     "start_time": "2021-02-06T18:13:34.948603",
     "status": "completed"
    },
    "tags": []
   },
   "source": [
    "* Find ranking of authors based on reviews"
   ]
  },
  {
   "cell_type": "code",
   "execution_count": 26,
   "metadata": {
    "execution": {
     "iopub.execute_input": "2021-02-06T18:13:35.138519Z",
     "iopub.status.busy": "2021-02-06T18:13:35.137794Z",
     "iopub.status.idle": "2021-02-06T18:13:35.140934Z",
     "shell.execute_reply": "2021-02-06T18:13:35.141430Z"
    },
    "papermill": {
     "duration": 0.078614,
     "end_time": "2021-02-06T18:13:35.141595",
     "exception": false,
     "start_time": "2021-02-06T18:13:35.062981",
     "status": "completed"
    },
    "tags": []
   },
   "outputs": [
    {
     "data": {
      "text/html": [
       "<div>\n",
       "<style scoped>\n",
       "    .dataframe tbody tr th:only-of-type {\n",
       "        vertical-align: middle;\n",
       "    }\n",
       "\n",
       "    .dataframe tbody tr th {\n",
       "        vertical-align: top;\n",
       "    }\n",
       "\n",
       "    .dataframe thead th {\n",
       "        text-align: right;\n",
       "    }\n",
       "</style>\n",
       "<table border=\"1\" class=\"dataframe\">\n",
       "  <thead>\n",
       "    <tr style=\"text-align: right;\">\n",
       "      <th></th>\n",
       "      <th>Reviews</th>\n",
       "    </tr>\n",
       "    <tr>\n",
       "      <th>Author</th>\n",
       "      <th></th>\n",
       "    </tr>\n",
       "  </thead>\n",
       "  <tbody>\n",
       "    <tr>\n",
       "      <th>Alex Michaelides</th>\n",
       "      <td>27536</td>\n",
       "    </tr>\n",
       "    <tr>\n",
       "      <th>Andy Weir</th>\n",
       "      <td>39459</td>\n",
       "    </tr>\n",
       "    <tr>\n",
       "      <th>Celeste Ng</th>\n",
       "      <td>25706</td>\n",
       "    </tr>\n",
       "    <tr>\n",
       "      <th>Dan Brown</th>\n",
       "      <td>29651</td>\n",
       "    </tr>\n",
       "    <tr>\n",
       "      <th>Delia Owens</th>\n",
       "      <td>87841</td>\n",
       "    </tr>\n",
       "    <tr>\n",
       "      <th>E L James</th>\n",
       "      <td>25624</td>\n",
       "    </tr>\n",
       "    <tr>\n",
       "      <th>J.K. Rowling</th>\n",
       "      <td>23973</td>\n",
       "    </tr>\n",
       "    <tr>\n",
       "      <th>Margaret Atwood</th>\n",
       "      <td>29442</td>\n",
       "    </tr>\n",
       "    <tr>\n",
       "      <th>Paulo Coelho</th>\n",
       "      <td>35799</td>\n",
       "    </tr>\n",
       "    <tr>\n",
       "      <th>Suzanne Collins</th>\n",
       "      <td>32122</td>\n",
       "    </tr>\n",
       "  </tbody>\n",
       "</table>\n",
       "</div>"
      ],
      "text/plain": [
       "                  Reviews\n",
       "Author                   \n",
       "Alex Michaelides    27536\n",
       "Andy Weir           39459\n",
       "Celeste Ng          25706\n",
       "Dan Brown           29651\n",
       "Delia Owens         87841\n",
       "E L James           25624\n",
       "J.K. Rowling        23973\n",
       "Margaret Atwood     29442\n",
       "Paulo Coelho        35799\n",
       "Suzanne Collins     32122"
      ]
     },
     "execution_count": 26,
     "metadata": {},
     "output_type": "execute_result"
    }
   ],
   "source": [
    "top_authors = bestseller_books.sort_values(by=\"Reviews\", ascending=False).head(10) \n",
    "top_authors.pivot_table(index=['Author'], values=['Reviews'], aggfunc='sum') "
   ]
  },
  {
   "cell_type": "markdown",
   "metadata": {
    "papermill": {
     "duration": 0.057634,
     "end_time": "2021-02-06T18:13:35.257353",
     "exception": false,
     "start_time": "2021-02-06T18:13:35.199719",
     "status": "completed"
    },
    "tags": []
   },
   "source": [
    "* Sorting reviews of top authors by descending order\n"
   ]
  },
  {
   "cell_type": "code",
   "execution_count": 27,
   "metadata": {
    "execution": {
     "iopub.execute_input": "2021-02-06T18:13:35.376565Z",
     "iopub.status.busy": "2021-02-06T18:13:35.375962Z",
     "iopub.status.idle": "2021-02-06T18:13:35.392543Z",
     "shell.execute_reply": "2021-02-06T18:13:35.391863Z"
    },
    "papermill": {
     "duration": 0.07712,
     "end_time": "2021-02-06T18:13:35.392687",
     "exception": false,
     "start_time": "2021-02-06T18:13:35.315567",
     "status": "completed"
    },
    "tags": []
   },
   "outputs": [
    {
     "data": {
      "text/html": [
       "<div>\n",
       "<style scoped>\n",
       "    .dataframe tbody tr th:only-of-type {\n",
       "        vertical-align: middle;\n",
       "    }\n",
       "\n",
       "    .dataframe tbody tr th {\n",
       "        vertical-align: top;\n",
       "    }\n",
       "\n",
       "    .dataframe thead th {\n",
       "        text-align: right;\n",
       "    }\n",
       "</style>\n",
       "<table border=\"1\" class=\"dataframe\">\n",
       "  <thead>\n",
       "    <tr style=\"text-align: right;\">\n",
       "      <th></th>\n",
       "      <th>Name</th>\n",
       "      <th>Author</th>\n",
       "      <th>User Rating</th>\n",
       "      <th>Reviews</th>\n",
       "      <th>Price</th>\n",
       "      <th>Year</th>\n",
       "      <th>Genre</th>\n",
       "    </tr>\n",
       "  </thead>\n",
       "  <tbody>\n",
       "    <tr>\n",
       "      <th>534</th>\n",
       "      <td>Where the Crawdads Sing</td>\n",
       "      <td>Delia Owens</td>\n",
       "      <td>4.8</td>\n",
       "      <td>87841</td>\n",
       "      <td>15</td>\n",
       "      <td>2019</td>\n",
       "      <td>Fiction</td>\n",
       "    </tr>\n",
       "    <tr>\n",
       "      <th>433</th>\n",
       "      <td>The Martian</td>\n",
       "      <td>Andy Weir</td>\n",
       "      <td>4.7</td>\n",
       "      <td>39459</td>\n",
       "      <td>9</td>\n",
       "      <td>2015</td>\n",
       "      <td>Fiction</td>\n",
       "    </tr>\n",
       "    <tr>\n",
       "      <th>338</th>\n",
       "      <td>The Alchemist</td>\n",
       "      <td>Paulo Coelho</td>\n",
       "      <td>4.7</td>\n",
       "      <td>35799</td>\n",
       "      <td>39</td>\n",
       "      <td>2014</td>\n",
       "      <td>Fiction</td>\n",
       "    </tr>\n",
       "    <tr>\n",
       "      <th>407</th>\n",
       "      <td>The Hunger Games</td>\n",
       "      <td>Suzanne Collins</td>\n",
       "      <td>4.7</td>\n",
       "      <td>32122</td>\n",
       "      <td>14</td>\n",
       "      <td>2010</td>\n",
       "      <td>Fiction</td>\n",
       "    </tr>\n",
       "    <tr>\n",
       "      <th>182</th>\n",
       "      <td>Inferno</td>\n",
       "      <td>Dan Brown</td>\n",
       "      <td>4.1</td>\n",
       "      <td>29651</td>\n",
       "      <td>14</td>\n",
       "      <td>2013</td>\n",
       "      <td>Fiction</td>\n",
       "    </tr>\n",
       "    <tr>\n",
       "      <th>399</th>\n",
       "      <td>The Handmaid's Tale</td>\n",
       "      <td>Margaret Atwood</td>\n",
       "      <td>4.3</td>\n",
       "      <td>29442</td>\n",
       "      <td>7</td>\n",
       "      <td>2017</td>\n",
       "      <td>Fiction</td>\n",
       "    </tr>\n",
       "    <tr>\n",
       "      <th>462</th>\n",
       "      <td>The Silent Patient</td>\n",
       "      <td>Alex Michaelides</td>\n",
       "      <td>4.5</td>\n",
       "      <td>27536</td>\n",
       "      <td>14</td>\n",
       "      <td>2019</td>\n",
       "      <td>Fiction</td>\n",
       "    </tr>\n",
       "    <tr>\n",
       "      <th>220</th>\n",
       "      <td>Little Fires Everywhere</td>\n",
       "      <td>Celeste Ng</td>\n",
       "      <td>4.5</td>\n",
       "      <td>25706</td>\n",
       "      <td>12</td>\n",
       "      <td>2018</td>\n",
       "      <td>Fiction</td>\n",
       "    </tr>\n",
       "    <tr>\n",
       "      <th>149</th>\n",
       "      <td>Grey: Fifty Shades of Grey as Told by Christia...</td>\n",
       "      <td>E L James</td>\n",
       "      <td>4.4</td>\n",
       "      <td>25624</td>\n",
       "      <td>14</td>\n",
       "      <td>2015</td>\n",
       "      <td>Fiction</td>\n",
       "    </tr>\n",
       "    <tr>\n",
       "      <th>154</th>\n",
       "      <td>Harry Potter and the Cursed Child, Parts 1 &amp; 2...</td>\n",
       "      <td>J.K. Rowling</td>\n",
       "      <td>4.0</td>\n",
       "      <td>23973</td>\n",
       "      <td>12</td>\n",
       "      <td>2016</td>\n",
       "      <td>Fiction</td>\n",
       "    </tr>\n",
       "  </tbody>\n",
       "</table>\n",
       "</div>"
      ],
      "text/plain": [
       "                                                  Name            Author  \\\n",
       "534                            Where the Crawdads Sing       Delia Owens   \n",
       "433                                        The Martian         Andy Weir   \n",
       "338                                      The Alchemist      Paulo Coelho   \n",
       "407                                   The Hunger Games   Suzanne Collins   \n",
       "182                                            Inferno         Dan Brown   \n",
       "399                                The Handmaid's Tale   Margaret Atwood   \n",
       "462                                 The Silent Patient  Alex Michaelides   \n",
       "220                            Little Fires Everywhere        Celeste Ng   \n",
       "149  Grey: Fifty Shades of Grey as Told by Christia...         E L James   \n",
       "154  Harry Potter and the Cursed Child, Parts 1 & 2...      J.K. Rowling   \n",
       "\n",
       "     User Rating  Reviews  Price  Year    Genre  \n",
       "534          4.8    87841     15  2019  Fiction  \n",
       "433          4.7    39459      9  2015  Fiction  \n",
       "338          4.7    35799     39  2014  Fiction  \n",
       "407          4.7    32122     14  2010  Fiction  \n",
       "182          4.1    29651     14  2013  Fiction  \n",
       "399          4.3    29442      7  2017  Fiction  \n",
       "462          4.5    27536     14  2019  Fiction  \n",
       "220          4.5    25706     12  2018  Fiction  \n",
       "149          4.4    25624     14  2015  Fiction  \n",
       "154          4.0    23973     12  2016  Fiction  "
      ]
     },
     "execution_count": 27,
     "metadata": {},
     "output_type": "execute_result"
    }
   ],
   "source": [
    "top_authors.sort_values(by=['Reviews'], inplace=True, ascending=False)\n",
    "top_authors"
   ]
  },
  {
   "cell_type": "markdown",
   "metadata": {
    "papermill": {
     "duration": 0.058573,
     "end_time": "2021-02-06T18:13:35.510859",
     "exception": false,
     "start_time": "2021-02-06T18:13:35.452286",
     "status": "completed"
    },
    "tags": []
   },
   "source": [
    "**Horizontal Bar**"
   ]
  },
  {
   "cell_type": "code",
   "execution_count": 28,
   "metadata": {
    "execution": {
     "iopub.execute_input": "2021-02-06T18:13:35.657742Z",
     "iopub.status.busy": "2021-02-06T18:13:35.657067Z",
     "iopub.status.idle": "2021-02-06T18:13:35.862180Z",
     "shell.execute_reply": "2021-02-06T18:13:35.862695Z"
    },
    "papermill": {
     "duration": 0.292466,
     "end_time": "2021-02-06T18:13:35.862870",
     "exception": false,
     "start_time": "2021-02-06T18:13:35.570404",
     "status": "completed"
    },
    "tags": []
   },
   "outputs": [
    {
     "data": {
      "image/png": "[encoded data removed]",
      "text/plain": [
       "<Figure size 1080x720 with 1 Axes>"
      ]
     },
     "metadata": {
      "needs_background": "light"
     },
     "output_type": "display_data"
    }
   ],
   "source": [
    "top_authors.plot.barh(x='Author', y='Reviews', rot=0,color='lightcoral',\n",
    "                     figsize=(15,10), # Figsize to make the plot larger\n",
    "title=' Distribution of the Top 10 Authors based on Reviews', # Adding a title to the top\n",
    "xlabel=\"Authors\", # Adding a label on the x axis\n",
    "ylabel=\"Reviews\", # Adding a label on y axis\n",
    "fontsize='large').invert_yaxis() #invert horizontal bar chart\n",
    "\n",
    "plt.xticks(rotation = 45);\n"
   ]
  },
  {
   "cell_type": "markdown",
   "metadata": {
    "papermill": {
     "duration": 0.059062,
     "end_time": "2021-02-06T18:13:35.981431",
     "exception": false,
     "start_time": "2021-02-06T18:13:35.922369",
     "status": "completed"
    },
    "tags": []
   },
   "source": [
    "* Based on the above bar plot,these are the 10 authors with most bestselling books based on the reviews"
   ]
  },
  {
   "cell_type": "code",
   "execution_count": 29,
   "metadata": {
    "execution": {
     "iopub.execute_input": "2021-02-06T18:13:36.105033Z",
     "iopub.status.busy": "2021-02-06T18:13:36.104331Z",
     "iopub.status.idle": "2021-02-06T18:13:36.357251Z",
     "shell.execute_reply": "2021-02-06T18:13:36.357754Z"
    },
    "papermill": {
     "duration": 0.316538,
     "end_time": "2021-02-06T18:13:36.357942",
     "exception": false,
     "start_time": "2021-02-06T18:13:36.041404",
     "status": "completed"
    },
    "tags": []
   },
   "outputs": [
    {
     "data": {
      "image/png": "[encoded data removed]",
      "text/plain": [
       "<Figure size 1080x720 with 1 Axes>"
      ]
     },
     "metadata": {
      "needs_background": "light"
     },
     "output_type": "display_data"
    }
   ],
   "source": [
    "top_authors.plot.barh(x='Name', y='User Rating', rot=0,color='teal',\n",
    "                     figsize=(15,10), # Figsize to make the plot larger\n",
    "title='Top 10 books based on user rating', # Adding a title to the top\n",
    "xlabel=\"Name\", # Adding a label on the x axis\n",
    "ylabel=\"User Rating\", # Adding a label on y axis\n",
    "fontsize='large').invert_yaxis() #invert horizontal bar chart"
   ]
  },
  {
   "cell_type": "markdown",
   "metadata": {
    "papermill": {
     "duration": 0.061288,
     "end_time": "2021-02-06T18:13:36.481158",
     "exception": false,
     "start_time": "2021-02-06T18:13:36.419870",
     "status": "completed"
    },
    "tags": []
   },
   "source": [
    "* These are the top 10 list of books, based on the ratings by the users"
   ]
  }
 ],
 "metadata": {
  "kernelspec": {
   "display_name": "Python 3",
   "language": "python",
   "name": "python3"
  },
  "language_info": {
   "codemirror_mode": {
    "name": "ipython",
    "version": 3
   },
   "file_extension": ".py",
   "mimetype": "text/x-python",
   "name": "python",
   "nbconvert_exporter": "python",
   "pygments_lexer": "ipython3",
   "version": "3.7.9"
  },
  "papermill": {
   "default_parameters": {},
   "duration": 19.070528,
   "end_time": "2021-02-06T18:13:37.252361",
   "environment_variables": {},
   "exception": null,
   "input_path": "__notebook__.ipynb",
   "output_path": "__notebook__.ipynb",
   "parameters": {},
   "start_time": "2021-02-06T18:13:18.181833",
   "version": "2.2.2"
  }
 },
 "nbformat": 4,
 "nbformat_minor": 4
}
